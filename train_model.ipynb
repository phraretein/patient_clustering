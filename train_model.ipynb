{
 "cells": [
  {
   "cell_type": "code",
   "execution_count": 1,
   "metadata": {},
   "outputs": [],
   "source": [
    "import pandas as pd\n",
    "from sklearn.model_selection import train_test_split"
   ]
  },
  {
   "cell_type": "markdown",
   "metadata": {},
   "source": [
    "# Read Data"
   ]
  },
  {
   "cell_type": "code",
   "execution_count": 2,
   "metadata": {},
   "outputs": [],
   "source": [
    "df_cc = pd.read_excel('cc61_df3_vn.xlsx')\n",
    "df_xray = pd.read_excel('Xray (2017-2018).xlsx')"
   ]
  },
  {
   "cell_type": "markdown",
   "metadata": {},
   "source": [
    "# Clean Data"
   ]
  },
  {
   "cell_type": "code",
   "execution_count": 67,
   "metadata": {},
   "outputs": [],
   "source": [
    "# Dropping null value columns to avoid errors\n",
    "df_cc.dropna(subset=['clean_symptom2(synonym)', 'bps', 'bpd', 'pulse', 'bw', 'height', 'temperature', 'PDX'],inplace = True)"
   ]
  },
  {
   "cell_type": "code",
   "execution_count": 68,
   "metadata": {},
   "outputs": [
    {
     "data": {
      "text/html": [
       "<div>\n",
       "<style scoped>\n",
       "    .dataframe tbody tr th:only-of-type {\n",
       "        vertical-align: middle;\n",
       "    }\n",
       "\n",
       "    .dataframe tbody tr th {\n",
       "        vertical-align: top;\n",
       "    }\n",
       "\n",
       "    .dataframe thead th {\n",
       "        text-align: right;\n",
       "    }\n",
       "</style>\n",
       "<table border=\"1\" class=\"dataframe\">\n",
       "  <thead>\n",
       "    <tr style=\"text-align: right;\">\n",
       "      <th></th>\n",
       "      <th>vn</th>\n",
       "      <th>vstdate</th>\n",
       "      <th>vsttime</th>\n",
       "      <th>sex</th>\n",
       "      <th>age</th>\n",
       "      <th>cc</th>\n",
       "      <th>bps</th>\n",
       "      <th>bpd</th>\n",
       "      <th>pulse</th>\n",
       "      <th>bw</th>\n",
       "      <th>...</th>\n",
       "      <th>temperature</th>\n",
       "      <th>department</th>\n",
       "      <th>PDX</th>\n",
       "      <th>Comorbidity (2)</th>\n",
       "      <th>Complication (3)</th>\n",
       "      <th>Other (4)</th>\n",
       "      <th>External Cause (5)</th>\n",
       "      <th>clean_symtom(noun)</th>\n",
       "      <th>clean_symptom2(synonym)</th>\n",
       "      <th>symptoms</th>\n",
       "    </tr>\n",
       "  </thead>\n",
       "  <tbody>\n",
       "    <tr>\n",
       "      <th>0</th>\n",
       "      <td>610611111904</td>\n",
       "      <td>2018-06-11</td>\n",
       "      <td>11:19:04</td>\n",
       "      <td>หญิง</td>\n",
       "      <td>23.0</td>\n",
       "      <td>P - LAST  -  LMP  23/03/02561*   4 วัน ตั้งครร...</td>\n",
       "      <td>86.0</td>\n",
       "      <td>59.0</td>\n",
       "      <td>85.0</td>\n",
       "      <td>49.4</td>\n",
       "      <td>...</td>\n",
       "      <td>36.5</td>\n",
       "      <td>จุดซักประวัติห้องตรวจโรคนรีเวช</td>\n",
       "      <td>O020</td>\n",
       "      <td>NaN</td>\n",
       "      <td>NaN</td>\n",
       "      <td>NaN</td>\n",
       "      <td>NaN</td>\n",
       "      <td>ใช้สารเสพติด ตั้งครรภ์</td>\n",
       "      <td>ตั้งครรภ์/ยาเสพติด</td>\n",
       "      <td>[ตั้งครรภ์, ยาเสพติด]</td>\n",
       "    </tr>\n",
       "    <tr>\n",
       "      <th>1</th>\n",
       "      <td>610508143131</td>\n",
       "      <td>2018-05-08</td>\n",
       "      <td>14:31:31</td>\n",
       "      <td>หญิง</td>\n",
       "      <td>22.0</td>\n",
       "      <td>G1P  0 LAST-  ปี  LMP -   คุมกำเนิด  -   วันนี...</td>\n",
       "      <td>123.0</td>\n",
       "      <td>72.0</td>\n",
       "      <td>130.0</td>\n",
       "      <td>61.1</td>\n",
       "      <td>...</td>\n",
       "      <td>36.5</td>\n",
       "      <td>จุดซักประวัติห้องตรวจโรคนรีเวช</td>\n",
       "      <td>A630</td>\n",
       "      <td>NaN</td>\n",
       "      <td>NaN</td>\n",
       "      <td>Z133</td>\n",
       "      <td>NaN</td>\n",
       "      <td>ฝากครรภ์ คุมกำเนิด ตั้งครรภ์</td>\n",
       "      <td>ฝากครรภ์/ตั้งครรภ์/กำเนิด</td>\n",
       "      <td>[ฝากครรภ์, ตั้งครรภ์, กำเนิด]</td>\n",
       "    </tr>\n",
       "    <tr>\n",
       "      <th>3</th>\n",
       "      <td>610926001048</td>\n",
       "      <td>2018-09-26</td>\n",
       "      <td>00:10:48</td>\n",
       "      <td>หญิง</td>\n",
       "      <td>52.0</td>\n",
       "      <td>ผู้ป่วยแจ้งว่า มีอาการปวดท้อง แน่นใต้ลิ้นปี่ เ...</td>\n",
       "      <td>170.0</td>\n",
       "      <td>110.0</td>\n",
       "      <td>64.0</td>\n",
       "      <td>86.0</td>\n",
       "      <td>...</td>\n",
       "      <td>36.6</td>\n",
       "      <td>ห้องEmergency Room (ER)</td>\n",
       "      <td>K30</td>\n",
       "      <td>NaN</td>\n",
       "      <td>NaN</td>\n",
       "      <td>NaN</td>\n",
       "      <td>NaN</td>\n",
       "      <td>แน่นใต้ลิ้นปี่ ปวดท้อง</td>\n",
       "      <td>ปวด/แน่น/ปวดท้อง/แน่นใต้ลิ้นปี่</td>\n",
       "      <td>[ปวด, แน่น, ปวดท้อง, แน่นใต้ลิ้นปี่]</td>\n",
       "    </tr>\n",
       "    <tr>\n",
       "      <th>6</th>\n",
       "      <td>610326142345</td>\n",
       "      <td>2018-03-26</td>\n",
       "      <td>14:23:45</td>\n",
       "      <td>หญิง</td>\n",
       "      <td>51.0</td>\n",
       "      <td>ปวดขาพับข้างซ้ายร้าวลงขาซ้ายเป็นมา 1 อาทิตย์</td>\n",
       "      <td>153.0</td>\n",
       "      <td>92.0</td>\n",
       "      <td>67.0</td>\n",
       "      <td>86.0</td>\n",
       "      <td>...</td>\n",
       "      <td>36.5</td>\n",
       "      <td>จุดซักประวัติห้องตรวจโรคกระดูก</td>\n",
       "      <td>M6596</td>\n",
       "      <td>NaN</td>\n",
       "      <td>NaN</td>\n",
       "      <td>NaN</td>\n",
       "      <td>NaN</td>\n",
       "      <td>ร้าว ปวดขา</td>\n",
       "      <td>ปวด/ปวดร้าว/ปวดขา</td>\n",
       "      <td>[ปวด, ปวดร้าว, ปวดขา]</td>\n",
       "    </tr>\n",
       "    <tr>\n",
       "      <th>7</th>\n",
       "      <td>610427095914</td>\n",
       "      <td>2018-04-27</td>\n",
       "      <td>09:59:14</td>\n",
       "      <td>หญิง</td>\n",
       "      <td>51.0</td>\n",
       "      <td>ไข้  ปวดเมื่อยตามตัว   มีน้ำมูก อ่อนเพลีย ลูกเ...</td>\n",
       "      <td>150.0</td>\n",
       "      <td>85.0</td>\n",
       "      <td>79.0</td>\n",
       "      <td>86.0</td>\n",
       "      <td>...</td>\n",
       "      <td>36.9</td>\n",
       "      <td>จุดซักประวัติตรวจโรคทั่วไป</td>\n",
       "      <td>J111</td>\n",
       "      <td>NaN</td>\n",
       "      <td>NaN</td>\n",
       "      <td>NaN</td>\n",
       "      <td>NaN</td>\n",
       "      <td>น้ำมูก ไข้ ปวดเมื่อย อ่อนเพลีย</td>\n",
       "      <td>ไข้/ปวดเมื่อย/ปวด/น้ำมูก/อ่อนเพลีย</td>\n",
       "      <td>[ไข้, ปวดเมื่อย, ปวด, น้ำมูก, อ่อนเพลีย]</td>\n",
       "    </tr>\n",
       "  </tbody>\n",
       "</table>\n",
       "<p>5 rows × 21 columns</p>\n",
       "</div>"
      ],
      "text/plain": [
       "             vn    vstdate   vsttime   sex   age  \\\n",
       "0  610611111904 2018-06-11  11:19:04  หญิง  23.0   \n",
       "1  610508143131 2018-05-08  14:31:31  หญิง  22.0   \n",
       "3  610926001048 2018-09-26  00:10:48  หญิง  52.0   \n",
       "6  610326142345 2018-03-26  14:23:45  หญิง  51.0   \n",
       "7  610427095914 2018-04-27  09:59:14  หญิง  51.0   \n",
       "\n",
       "                                                  cc    bps    bpd  pulse  \\\n",
       "0  P - LAST  -  LMP  23/03/02561*   4 วัน ตั้งครร...   86.0   59.0   85.0   \n",
       "1  G1P  0 LAST-  ปี  LMP -   คุมกำเนิด  -   วันนี...  123.0   72.0  130.0   \n",
       "3  ผู้ป่วยแจ้งว่า มีอาการปวดท้อง แน่นใต้ลิ้นปี่ เ...  170.0  110.0   64.0   \n",
       "6       ปวดขาพับข้างซ้ายร้าวลงขาซ้ายเป็นมา 1 อาทิตย์  153.0   92.0   67.0   \n",
       "7  ไข้  ปวดเมื่อยตามตัว   มีน้ำมูก อ่อนเพลีย ลูกเ...  150.0   85.0   79.0   \n",
       "\n",
       "     bw  ...  temperature                      department    PDX  \\\n",
       "0  49.4  ...         36.5  จุดซักประวัติห้องตรวจโรคนรีเวช   O020   \n",
       "1  61.1  ...         36.5  จุดซักประวัติห้องตรวจโรคนรีเวช   A630   \n",
       "3  86.0  ...         36.6         ห้องEmergency Room (ER)    K30   \n",
       "6  86.0  ...         36.5  จุดซักประวัติห้องตรวจโรคกระดูก  M6596   \n",
       "7  86.0  ...         36.9      จุดซักประวัติตรวจโรคทั่วไป   J111   \n",
       "\n",
       "  Comorbidity (2) Complication (3) Other (4) External Cause (5)  \\\n",
       "0             NaN              NaN       NaN                NaN   \n",
       "1             NaN              NaN      Z133                NaN   \n",
       "3             NaN              NaN       NaN                NaN   \n",
       "6             NaN              NaN       NaN                NaN   \n",
       "7             NaN              NaN       NaN                NaN   \n",
       "\n",
       "               clean_symtom(noun)             clean_symptom2(synonym)  \\\n",
       "0          ใช้สารเสพติด ตั้งครรภ์                  ตั้งครรภ์/ยาเสพติด   \n",
       "1    ฝากครรภ์ คุมกำเนิด ตั้งครรภ์           ฝากครรภ์/ตั้งครรภ์/กำเนิด   \n",
       "3          แน่นใต้ลิ้นปี่ ปวดท้อง     ปวด/แน่น/ปวดท้อง/แน่นใต้ลิ้นปี่   \n",
       "6                      ร้าว ปวดขา                   ปวด/ปวดร้าว/ปวดขา   \n",
       "7  น้ำมูก ไข้ ปวดเมื่อย อ่อนเพลีย  ไข้/ปวดเมื่อย/ปวด/น้ำมูก/อ่อนเพลีย   \n",
       "\n",
       "                                   symptoms  \n",
       "0                     [ตั้งครรภ์, ยาเสพติด]  \n",
       "1             [ฝากครรภ์, ตั้งครรภ์, กำเนิด]  \n",
       "3      [ปวด, แน่น, ปวดท้อง, แน่นใต้ลิ้นปี่]  \n",
       "6                     [ปวด, ปวดร้าว, ปวดขา]  \n",
       "7  [ไข้, ปวดเมื่อย, ปวด, น้ำมูก, อ่อนเพลีย]  \n",
       "\n",
       "[5 rows x 21 columns]"
      ]
     },
     "execution_count": 68,
     "metadata": {},
     "output_type": "execute_result"
    }
   ],
   "source": [
    "# Check\n",
    "df_cc.head()"
   ]
  },
  {
   "cell_type": "code",
   "execution_count": 69,
   "metadata": {},
   "outputs": [],
   "source": [
    "df_cc.drop(df_cc[df_cc.bw == 0].index, inplace=True)\n",
    "df_cc.drop(df_cc[df_cc.height == 0].index, inplace=True)\n",
    "df_cc.drop(df_cc[df_cc.temperature == 0].index, inplace=True)"
   ]
  },
  {
   "cell_type": "code",
   "execution_count": 70,
   "metadata": {},
   "outputs": [
    {
     "data": {
      "text/html": [
       "<div>\n",
       "<style scoped>\n",
       "    .dataframe tbody tr th:only-of-type {\n",
       "        vertical-align: middle;\n",
       "    }\n",
       "\n",
       "    .dataframe tbody tr th {\n",
       "        vertical-align: top;\n",
       "    }\n",
       "\n",
       "    .dataframe thead th {\n",
       "        text-align: right;\n",
       "    }\n",
       "</style>\n",
       "<table border=\"1\" class=\"dataframe\">\n",
       "  <thead>\n",
       "    <tr style=\"text-align: right;\">\n",
       "      <th></th>\n",
       "      <th>vn</th>\n",
       "      <th>vstdate</th>\n",
       "      <th>vsttime</th>\n",
       "      <th>xray_items_code</th>\n",
       "      <th>xray_list</th>\n",
       "      <th>xray_items</th>\n",
       "    </tr>\n",
       "  </thead>\n",
       "  <tbody>\n",
       "    <tr>\n",
       "      <th>0</th>\n",
       "      <td>601001011504</td>\n",
       "      <td>2017-10-01</td>\n",
       "      <td>01:15:04</td>\n",
       "      <td>12.0</td>\n",
       "      <td>Chest Ap</td>\n",
       "      <td>[Chest Ap]</td>\n",
       "    </tr>\n",
       "    <tr>\n",
       "      <th>1</th>\n",
       "      <td>601001011504</td>\n",
       "      <td>2017-10-01</td>\n",
       "      <td>01:15:04</td>\n",
       "      <td>66.0</td>\n",
       "      <td>Chest Ap</td>\n",
       "      <td>[Chest Ap]</td>\n",
       "    </tr>\n",
       "    <tr>\n",
       "      <th>2</th>\n",
       "      <td>601001011504</td>\n",
       "      <td>2017-10-01</td>\n",
       "      <td>01:15:04</td>\n",
       "      <td>66.0</td>\n",
       "      <td>Chest Ap</td>\n",
       "      <td>[Chest Ap]</td>\n",
       "    </tr>\n",
       "    <tr>\n",
       "      <th>3</th>\n",
       "      <td>601001012739</td>\n",
       "      <td>2017-10-01</td>\n",
       "      <td>01:27:39</td>\n",
       "      <td>1.0</td>\n",
       "      <td>Skull AP,lat,Ankle Lt AP,lat,Ankle Mortise Lt</td>\n",
       "      <td>[Skull AP, lat, Ankle Lt AP, lat, Ankle Mortis...</td>\n",
       "    </tr>\n",
       "    <tr>\n",
       "      <th>4</th>\n",
       "      <td>601001012739</td>\n",
       "      <td>2017-10-01</td>\n",
       "      <td>01:27:39</td>\n",
       "      <td>59.0</td>\n",
       "      <td>Skull AP,lat,Ankle Lt AP,lat,Ankle Mortise Lt</td>\n",
       "      <td>[Skull AP, lat, Ankle Lt AP, lat, Ankle Mortis...</td>\n",
       "    </tr>\n",
       "  </tbody>\n",
       "</table>\n",
       "</div>"
      ],
      "text/plain": [
       "             vn    vstdate   vsttime  xray_items_code  \\\n",
       "0  601001011504 2017-10-01  01:15:04             12.0   \n",
       "1  601001011504 2017-10-01  01:15:04             66.0   \n",
       "2  601001011504 2017-10-01  01:15:04             66.0   \n",
       "3  601001012739 2017-10-01  01:27:39              1.0   \n",
       "4  601001012739 2017-10-01  01:27:39             59.0   \n",
       "\n",
       "                                       xray_list  \\\n",
       "0                                       Chest Ap   \n",
       "1                                       Chest Ap   \n",
       "2                                       Chest Ap   \n",
       "3  Skull AP,lat,Ankle Lt AP,lat,Ankle Mortise Lt   \n",
       "4  Skull AP,lat,Ankle Lt AP,lat,Ankle Mortise Lt   \n",
       "\n",
       "                                          xray_items  \n",
       "0                                         [Chest Ap]  \n",
       "1                                         [Chest Ap]  \n",
       "2                                         [Chest Ap]  \n",
       "3  [Skull AP, lat, Ankle Lt AP, lat, Ankle Mortis...  \n",
       "4  [Skull AP, lat, Ankle Lt AP, lat, Ankle Mortis...  "
      ]
     },
     "execution_count": 70,
     "metadata": {},
     "output_type": "execute_result"
    }
   ],
   "source": [
    "df_xray['xray_items'] = df_xray['xray_list'].str.split(\",\", n= -1)\n",
    "df_xray.head()"
   ]
  },
  {
   "cell_type": "code",
   "execution_count": 71,
   "metadata": {},
   "outputs": [
    {
     "data": {
      "text/html": [
       "<div>\n",
       "<style scoped>\n",
       "    .dataframe tbody tr th:only-of-type {\n",
       "        vertical-align: middle;\n",
       "    }\n",
       "\n",
       "    .dataframe tbody tr th {\n",
       "        vertical-align: top;\n",
       "    }\n",
       "\n",
       "    .dataframe thead th {\n",
       "        text-align: right;\n",
       "    }\n",
       "</style>\n",
       "<table border=\"1\" class=\"dataframe\">\n",
       "  <thead>\n",
       "    <tr style=\"text-align: right;\">\n",
       "      <th></th>\n",
       "      <th>vn</th>\n",
       "      <th>vstdate</th>\n",
       "      <th>vsttime</th>\n",
       "      <th>sex</th>\n",
       "      <th>age</th>\n",
       "      <th>cc</th>\n",
       "      <th>bps</th>\n",
       "      <th>bpd</th>\n",
       "      <th>pulse</th>\n",
       "      <th>bw</th>\n",
       "      <th>...</th>\n",
       "      <th>temperature</th>\n",
       "      <th>department</th>\n",
       "      <th>PDX</th>\n",
       "      <th>Comorbidity (2)</th>\n",
       "      <th>Complication (3)</th>\n",
       "      <th>Other (4)</th>\n",
       "      <th>External Cause (5)</th>\n",
       "      <th>clean_symtom(noun)</th>\n",
       "      <th>clean_symptom2(synonym)</th>\n",
       "      <th>symptoms</th>\n",
       "    </tr>\n",
       "  </thead>\n",
       "  <tbody>\n",
       "    <tr>\n",
       "      <th>0</th>\n",
       "      <td>610611111904</td>\n",
       "      <td>2018-06-11</td>\n",
       "      <td>11:19:04</td>\n",
       "      <td>หญิง</td>\n",
       "      <td>23.0</td>\n",
       "      <td>P - LAST  -  LMP  23/03/02561*   4 วัน ตั้งครร...</td>\n",
       "      <td>86.0</td>\n",
       "      <td>59.0</td>\n",
       "      <td>85.0</td>\n",
       "      <td>49.4</td>\n",
       "      <td>...</td>\n",
       "      <td>36.5</td>\n",
       "      <td>จุดซักประวัติห้องตรวจโรคนรีเวช</td>\n",
       "      <td>O020</td>\n",
       "      <td>NaN</td>\n",
       "      <td>NaN</td>\n",
       "      <td>NaN</td>\n",
       "      <td>NaN</td>\n",
       "      <td>ใช้สารเสพติด ตั้งครรภ์</td>\n",
       "      <td>ตั้งครรภ์/ยาเสพติด</td>\n",
       "      <td>[ตั้งครรภ์, ยาเสพติด]</td>\n",
       "    </tr>\n",
       "    <tr>\n",
       "      <th>1</th>\n",
       "      <td>610508143131</td>\n",
       "      <td>2018-05-08</td>\n",
       "      <td>14:31:31</td>\n",
       "      <td>หญิง</td>\n",
       "      <td>22.0</td>\n",
       "      <td>G1P  0 LAST-  ปี  LMP -   คุมกำเนิด  -   วันนี...</td>\n",
       "      <td>123.0</td>\n",
       "      <td>72.0</td>\n",
       "      <td>130.0</td>\n",
       "      <td>61.1</td>\n",
       "      <td>...</td>\n",
       "      <td>36.5</td>\n",
       "      <td>จุดซักประวัติห้องตรวจโรคนรีเวช</td>\n",
       "      <td>A630</td>\n",
       "      <td>NaN</td>\n",
       "      <td>NaN</td>\n",
       "      <td>Z133</td>\n",
       "      <td>NaN</td>\n",
       "      <td>ฝากครรภ์ คุมกำเนิด ตั้งครรภ์</td>\n",
       "      <td>ฝากครรภ์/ตั้งครรภ์/กำเนิด</td>\n",
       "      <td>[ฝากครรภ์, ตั้งครรภ์, กำเนิด]</td>\n",
       "    </tr>\n",
       "    <tr>\n",
       "      <th>3</th>\n",
       "      <td>610926001048</td>\n",
       "      <td>2018-09-26</td>\n",
       "      <td>00:10:48</td>\n",
       "      <td>หญิง</td>\n",
       "      <td>52.0</td>\n",
       "      <td>ผู้ป่วยแจ้งว่า มีอาการปวดท้อง แน่นใต้ลิ้นปี่ เ...</td>\n",
       "      <td>170.0</td>\n",
       "      <td>110.0</td>\n",
       "      <td>64.0</td>\n",
       "      <td>86.0</td>\n",
       "      <td>...</td>\n",
       "      <td>36.6</td>\n",
       "      <td>ห้องEmergency Room (ER)</td>\n",
       "      <td>K30</td>\n",
       "      <td>NaN</td>\n",
       "      <td>NaN</td>\n",
       "      <td>NaN</td>\n",
       "      <td>NaN</td>\n",
       "      <td>แน่นใต้ลิ้นปี่ ปวดท้อง</td>\n",
       "      <td>ปวด/แน่น/ปวดท้อง/แน่นใต้ลิ้นปี่</td>\n",
       "      <td>[ปวด, แน่น, ปวดท้อง, แน่นใต้ลิ้นปี่]</td>\n",
       "    </tr>\n",
       "    <tr>\n",
       "      <th>6</th>\n",
       "      <td>610326142345</td>\n",
       "      <td>2018-03-26</td>\n",
       "      <td>14:23:45</td>\n",
       "      <td>หญิง</td>\n",
       "      <td>51.0</td>\n",
       "      <td>ปวดขาพับข้างซ้ายร้าวลงขาซ้ายเป็นมา 1 อาทิตย์</td>\n",
       "      <td>153.0</td>\n",
       "      <td>92.0</td>\n",
       "      <td>67.0</td>\n",
       "      <td>86.0</td>\n",
       "      <td>...</td>\n",
       "      <td>36.5</td>\n",
       "      <td>จุดซักประวัติห้องตรวจโรคกระดูก</td>\n",
       "      <td>M6596</td>\n",
       "      <td>NaN</td>\n",
       "      <td>NaN</td>\n",
       "      <td>NaN</td>\n",
       "      <td>NaN</td>\n",
       "      <td>ร้าว ปวดขา</td>\n",
       "      <td>ปวด/ปวดร้าว/ปวดขา</td>\n",
       "      <td>[ปวด, ปวดร้าว, ปวดขา]</td>\n",
       "    </tr>\n",
       "    <tr>\n",
       "      <th>7</th>\n",
       "      <td>610427095914</td>\n",
       "      <td>2018-04-27</td>\n",
       "      <td>09:59:14</td>\n",
       "      <td>หญิง</td>\n",
       "      <td>51.0</td>\n",
       "      <td>ไข้  ปวดเมื่อยตามตัว   มีน้ำมูก อ่อนเพลีย ลูกเ...</td>\n",
       "      <td>150.0</td>\n",
       "      <td>85.0</td>\n",
       "      <td>79.0</td>\n",
       "      <td>86.0</td>\n",
       "      <td>...</td>\n",
       "      <td>36.9</td>\n",
       "      <td>จุดซักประวัติตรวจโรคทั่วไป</td>\n",
       "      <td>J111</td>\n",
       "      <td>NaN</td>\n",
       "      <td>NaN</td>\n",
       "      <td>NaN</td>\n",
       "      <td>NaN</td>\n",
       "      <td>น้ำมูก ไข้ ปวดเมื่อย อ่อนเพลีย</td>\n",
       "      <td>ไข้/ปวดเมื่อย/ปวด/น้ำมูก/อ่อนเพลีย</td>\n",
       "      <td>[ไข้, ปวดเมื่อย, ปวด, น้ำมูก, อ่อนเพลีย]</td>\n",
       "    </tr>\n",
       "  </tbody>\n",
       "</table>\n",
       "<p>5 rows × 21 columns</p>\n",
       "</div>"
      ],
      "text/plain": [
       "             vn    vstdate   vsttime   sex   age  \\\n",
       "0  610611111904 2018-06-11  11:19:04  หญิง  23.0   \n",
       "1  610508143131 2018-05-08  14:31:31  หญิง  22.0   \n",
       "3  610926001048 2018-09-26  00:10:48  หญิง  52.0   \n",
       "6  610326142345 2018-03-26  14:23:45  หญิง  51.0   \n",
       "7  610427095914 2018-04-27  09:59:14  หญิง  51.0   \n",
       "\n",
       "                                                  cc    bps    bpd  pulse  \\\n",
       "0  P - LAST  -  LMP  23/03/02561*   4 วัน ตั้งครร...   86.0   59.0   85.0   \n",
       "1  G1P  0 LAST-  ปี  LMP -   คุมกำเนิด  -   วันนี...  123.0   72.0  130.0   \n",
       "3  ผู้ป่วยแจ้งว่า มีอาการปวดท้อง แน่นใต้ลิ้นปี่ เ...  170.0  110.0   64.0   \n",
       "6       ปวดขาพับข้างซ้ายร้าวลงขาซ้ายเป็นมา 1 อาทิตย์  153.0   92.0   67.0   \n",
       "7  ไข้  ปวดเมื่อยตามตัว   มีน้ำมูก อ่อนเพลีย ลูกเ...  150.0   85.0   79.0   \n",
       "\n",
       "     bw  ...  temperature                      department    PDX  \\\n",
       "0  49.4  ...         36.5  จุดซักประวัติห้องตรวจโรคนรีเวช   O020   \n",
       "1  61.1  ...         36.5  จุดซักประวัติห้องตรวจโรคนรีเวช   A630   \n",
       "3  86.0  ...         36.6         ห้องEmergency Room (ER)    K30   \n",
       "6  86.0  ...         36.5  จุดซักประวัติห้องตรวจโรคกระดูก  M6596   \n",
       "7  86.0  ...         36.9      จุดซักประวัติตรวจโรคทั่วไป   J111   \n",
       "\n",
       "  Comorbidity (2) Complication (3) Other (4) External Cause (5)  \\\n",
       "0             NaN              NaN       NaN                NaN   \n",
       "1             NaN              NaN      Z133                NaN   \n",
       "3             NaN              NaN       NaN                NaN   \n",
       "6             NaN              NaN       NaN                NaN   \n",
       "7             NaN              NaN       NaN                NaN   \n",
       "\n",
       "               clean_symtom(noun)             clean_symptom2(synonym)  \\\n",
       "0          ใช้สารเสพติด ตั้งครรภ์                  ตั้งครรภ์/ยาเสพติด   \n",
       "1    ฝากครรภ์ คุมกำเนิด ตั้งครรภ์           ฝากครรภ์/ตั้งครรภ์/กำเนิด   \n",
       "3          แน่นใต้ลิ้นปี่ ปวดท้อง     ปวด/แน่น/ปวดท้อง/แน่นใต้ลิ้นปี่   \n",
       "6                      ร้าว ปวดขา                   ปวด/ปวดร้าว/ปวดขา   \n",
       "7  น้ำมูก ไข้ ปวดเมื่อย อ่อนเพลีย  ไข้/ปวดเมื่อย/ปวด/น้ำมูก/อ่อนเพลีย   \n",
       "\n",
       "                                   symptoms  \n",
       "0                     [ตั้งครรภ์, ยาเสพติด]  \n",
       "1             [ฝากครรภ์, ตั้งครรภ์, กำเนิด]  \n",
       "3      [ปวด, แน่น, ปวดท้อง, แน่นใต้ลิ้นปี่]  \n",
       "6                     [ปวด, ปวดร้าว, ปวดขา]  \n",
       "7  [ไข้, ปวดเมื่อย, ปวด, น้ำมูก, อ่อนเพลีย]  \n",
       "\n",
       "[5 rows x 21 columns]"
      ]
     },
     "execution_count": 71,
     "metadata": {},
     "output_type": "execute_result"
    }
   ],
   "source": [
    "df_cc['symptoms'] = df_cc['clean_symptom2(synonym)'].str.split(\"/\", n= -1)\n",
    "df_cc.head()"
   ]
  },
  {
   "cell_type": "code",
   "execution_count": 72,
   "metadata": {},
   "outputs": [],
   "source": [
    "df_cc.rename(columns={'PDX (1)': 'PDX'}, inplace=True)\n",
    "df_cc.rename(columns={'age_y': 'age'}, inplace=True)"
   ]
  },
  {
   "cell_type": "code",
   "execution_count": 73,
   "metadata": {},
   "outputs": [
    {
     "data": {
      "text/html": [
       "<div>\n",
       "<style scoped>\n",
       "    .dataframe tbody tr th:only-of-type {\n",
       "        vertical-align: middle;\n",
       "    }\n",
       "\n",
       "    .dataframe tbody tr th {\n",
       "        vertical-align: top;\n",
       "    }\n",
       "\n",
       "    .dataframe thead th {\n",
       "        text-align: right;\n",
       "    }\n",
       "</style>\n",
       "<table border=\"1\" class=\"dataframe\">\n",
       "  <thead>\n",
       "    <tr style=\"text-align: right;\">\n",
       "      <th></th>\n",
       "      <th>vn</th>\n",
       "      <th>sex</th>\n",
       "      <th>age</th>\n",
       "      <th>bps</th>\n",
       "      <th>bpd</th>\n",
       "      <th>pulse</th>\n",
       "      <th>bw</th>\n",
       "      <th>height</th>\n",
       "      <th>temperature</th>\n",
       "      <th>PDX</th>\n",
       "      <th>symptoms</th>\n",
       "    </tr>\n",
       "  </thead>\n",
       "  <tbody>\n",
       "    <tr>\n",
       "      <th>0</th>\n",
       "      <td>610611111904</td>\n",
       "      <td>หญิง</td>\n",
       "      <td>23.0</td>\n",
       "      <td>86.0</td>\n",
       "      <td>59.0</td>\n",
       "      <td>85.0</td>\n",
       "      <td>49.4</td>\n",
       "      <td>160.0</td>\n",
       "      <td>36.5</td>\n",
       "      <td>O020</td>\n",
       "      <td>[ตั้งครรภ์, ยาเสพติด]</td>\n",
       "    </tr>\n",
       "    <tr>\n",
       "      <th>1</th>\n",
       "      <td>610508143131</td>\n",
       "      <td>หญิง</td>\n",
       "      <td>22.0</td>\n",
       "      <td>123.0</td>\n",
       "      <td>72.0</td>\n",
       "      <td>130.0</td>\n",
       "      <td>61.1</td>\n",
       "      <td>165.0</td>\n",
       "      <td>36.5</td>\n",
       "      <td>A630</td>\n",
       "      <td>[ฝากครรภ์, ตั้งครรภ์, กำเนิด]</td>\n",
       "    </tr>\n",
       "    <tr>\n",
       "      <th>3</th>\n",
       "      <td>610926001048</td>\n",
       "      <td>หญิง</td>\n",
       "      <td>52.0</td>\n",
       "      <td>170.0</td>\n",
       "      <td>110.0</td>\n",
       "      <td>64.0</td>\n",
       "      <td>86.0</td>\n",
       "      <td>154.0</td>\n",
       "      <td>36.6</td>\n",
       "      <td>K30</td>\n",
       "      <td>[ปวด, แน่น, ปวดท้อง, แน่นใต้ลิ้นปี่]</td>\n",
       "    </tr>\n",
       "    <tr>\n",
       "      <th>6</th>\n",
       "      <td>610326142345</td>\n",
       "      <td>หญิง</td>\n",
       "      <td>51.0</td>\n",
       "      <td>153.0</td>\n",
       "      <td>92.0</td>\n",
       "      <td>67.0</td>\n",
       "      <td>86.0</td>\n",
       "      <td>154.0</td>\n",
       "      <td>36.5</td>\n",
       "      <td>M6596</td>\n",
       "      <td>[ปวด, ปวดร้าว, ปวดขา]</td>\n",
       "    </tr>\n",
       "    <tr>\n",
       "      <th>7</th>\n",
       "      <td>610427095914</td>\n",
       "      <td>หญิง</td>\n",
       "      <td>51.0</td>\n",
       "      <td>150.0</td>\n",
       "      <td>85.0</td>\n",
       "      <td>79.0</td>\n",
       "      <td>86.0</td>\n",
       "      <td>154.0</td>\n",
       "      <td>36.9</td>\n",
       "      <td>J111</td>\n",
       "      <td>[ไข้, ปวดเมื่อย, ปวด, น้ำมูก, อ่อนเพลีย]</td>\n",
       "    </tr>\n",
       "  </tbody>\n",
       "</table>\n",
       "</div>"
      ],
      "text/plain": [
       "             vn   sex   age    bps    bpd  pulse    bw  height  temperature  \\\n",
       "0  610611111904  หญิง  23.0   86.0   59.0   85.0  49.4   160.0         36.5   \n",
       "1  610508143131  หญิง  22.0  123.0   72.0  130.0  61.1   165.0         36.5   \n",
       "3  610926001048  หญิง  52.0  170.0  110.0   64.0  86.0   154.0         36.6   \n",
       "6  610326142345  หญิง  51.0  153.0   92.0   67.0  86.0   154.0         36.5   \n",
       "7  610427095914  หญิง  51.0  150.0   85.0   79.0  86.0   154.0         36.9   \n",
       "\n",
       "     PDX                                  symptoms  \n",
       "0   O020                     [ตั้งครรภ์, ยาเสพติด]  \n",
       "1   A630             [ฝากครรภ์, ตั้งครรภ์, กำเนิด]  \n",
       "3    K30      [ปวด, แน่น, ปวดท้อง, แน่นใต้ลิ้นปี่]  \n",
       "6  M6596                     [ปวด, ปวดร้าว, ปวดขา]  \n",
       "7   J111  [ไข้, ปวดเมื่อย, ปวด, น้ำมูก, อ่อนเพลีย]  "
      ]
     },
     "execution_count": 73,
     "metadata": {},
     "output_type": "execute_result"
    }
   ],
   "source": [
    "df_cc_new = df_cc[['vn', 'sex', 'age', 'bps', 'bpd', 'pulse', 'bw', 'height', 'temperature', 'PDX', 'symptoms']]\n",
    "df_cc_new.head()"
   ]
  },
  {
   "cell_type": "code",
   "execution_count": 74,
   "metadata": {},
   "outputs": [
    {
     "data": {
      "text/html": [
       "<div>\n",
       "<style scoped>\n",
       "    .dataframe tbody tr th:only-of-type {\n",
       "        vertical-align: middle;\n",
       "    }\n",
       "\n",
       "    .dataframe tbody tr th {\n",
       "        vertical-align: top;\n",
       "    }\n",
       "\n",
       "    .dataframe thead th {\n",
       "        text-align: right;\n",
       "    }\n",
       "</style>\n",
       "<table border=\"1\" class=\"dataframe\">\n",
       "  <thead>\n",
       "    <tr style=\"text-align: right;\">\n",
       "      <th></th>\n",
       "      <th>vn</th>\n",
       "      <th>xray_items</th>\n",
       "    </tr>\n",
       "  </thead>\n",
       "  <tbody>\n",
       "    <tr>\n",
       "      <th>0</th>\n",
       "      <td>601001011504</td>\n",
       "      <td>[Chest Ap]</td>\n",
       "    </tr>\n",
       "    <tr>\n",
       "      <th>1</th>\n",
       "      <td>601001011504</td>\n",
       "      <td>[Chest Ap]</td>\n",
       "    </tr>\n",
       "    <tr>\n",
       "      <th>2</th>\n",
       "      <td>601001011504</td>\n",
       "      <td>[Chest Ap]</td>\n",
       "    </tr>\n",
       "    <tr>\n",
       "      <th>3</th>\n",
       "      <td>601001012739</td>\n",
       "      <td>[Skull AP, lat, Ankle Lt AP, lat, Ankle Mortis...</td>\n",
       "    </tr>\n",
       "    <tr>\n",
       "      <th>4</th>\n",
       "      <td>601001012739</td>\n",
       "      <td>[Skull AP, lat, Ankle Lt AP, lat, Ankle Mortis...</td>\n",
       "    </tr>\n",
       "  </tbody>\n",
       "</table>\n",
       "</div>"
      ],
      "text/plain": [
       "             vn                                         xray_items\n",
       "0  601001011504                                         [Chest Ap]\n",
       "1  601001011504                                         [Chest Ap]\n",
       "2  601001011504                                         [Chest Ap]\n",
       "3  601001012739  [Skull AP, lat, Ankle Lt AP, lat, Ankle Mortis...\n",
       "4  601001012739  [Skull AP, lat, Ankle Lt AP, lat, Ankle Mortis..."
      ]
     },
     "execution_count": 74,
     "metadata": {},
     "output_type": "execute_result"
    }
   ],
   "source": [
    "df_xray_new = df_xray[['vn', 'xray_items']]\n",
    "df_xray_new.head()"
   ]
  },
  {
   "cell_type": "code",
   "execution_count": 75,
   "metadata": {},
   "outputs": [
    {
     "data": {
      "text/html": [
       "<div>\n",
       "<style scoped>\n",
       "    .dataframe tbody tr th:only-of-type {\n",
       "        vertical-align: middle;\n",
       "    }\n",
       "\n",
       "    .dataframe tbody tr th {\n",
       "        vertical-align: top;\n",
       "    }\n",
       "\n",
       "    .dataframe thead th {\n",
       "        text-align: right;\n",
       "    }\n",
       "</style>\n",
       "<table border=\"1\" class=\"dataframe\">\n",
       "  <thead>\n",
       "    <tr style=\"text-align: right;\">\n",
       "      <th></th>\n",
       "      <th>vn</th>\n",
       "      <th>sex</th>\n",
       "      <th>age</th>\n",
       "      <th>bps</th>\n",
       "      <th>bpd</th>\n",
       "      <th>pulse</th>\n",
       "      <th>bw</th>\n",
       "      <th>height</th>\n",
       "      <th>temperature</th>\n",
       "      <th>PDX</th>\n",
       "      <th>symptoms</th>\n",
       "      <th>xray_items</th>\n",
       "    </tr>\n",
       "  </thead>\n",
       "  <tbody>\n",
       "    <tr>\n",
       "      <th>0</th>\n",
       "      <td>610926001048</td>\n",
       "      <td>หญิง</td>\n",
       "      <td>52.0</td>\n",
       "      <td>170.0</td>\n",
       "      <td>110.0</td>\n",
       "      <td>64.0</td>\n",
       "      <td>86.0</td>\n",
       "      <td>154.0</td>\n",
       "      <td>36.6</td>\n",
       "      <td>K30</td>\n",
       "      <td>[ปวด, แน่น, ปวดท้อง, แน่นใต้ลิ้นปี่]</td>\n",
       "      <td>[Acute Abdomen]</td>\n",
       "    </tr>\n",
       "    <tr>\n",
       "      <th>1</th>\n",
       "      <td>601013203924</td>\n",
       "      <td>หญิง</td>\n",
       "      <td>51.0</td>\n",
       "      <td>150.0</td>\n",
       "      <td>94.0</td>\n",
       "      <td>74.0</td>\n",
       "      <td>86.0</td>\n",
       "      <td>156.0</td>\n",
       "      <td>36.4</td>\n",
       "      <td>K30</td>\n",
       "      <td>[เหนื่อย]</td>\n",
       "      <td>[Chest PA Upright]</td>\n",
       "    </tr>\n",
       "    <tr>\n",
       "      <th>2</th>\n",
       "      <td>610330191455</td>\n",
       "      <td>หญิง</td>\n",
       "      <td>70.0</td>\n",
       "      <td>157.0</td>\n",
       "      <td>33.0</td>\n",
       "      <td>61.0</td>\n",
       "      <td>50.0</td>\n",
       "      <td>152.0</td>\n",
       "      <td>36.1</td>\n",
       "      <td>R1049</td>\n",
       "      <td>[ปวด, ปวดเอว]</td>\n",
       "      <td>[LS-spine AP, lat, Acute Abdomen]</td>\n",
       "    </tr>\n",
       "    <tr>\n",
       "      <th>3</th>\n",
       "      <td>610330191455</td>\n",
       "      <td>หญิง</td>\n",
       "      <td>70.0</td>\n",
       "      <td>157.0</td>\n",
       "      <td>33.0</td>\n",
       "      <td>61.0</td>\n",
       "      <td>50.0</td>\n",
       "      <td>152.0</td>\n",
       "      <td>36.1</td>\n",
       "      <td>R1049</td>\n",
       "      <td>[ปวด, ปวดเอว]</td>\n",
       "      <td>[LS-spine AP, lat, Acute Abdomen]</td>\n",
       "    </tr>\n",
       "    <tr>\n",
       "      <th>4</th>\n",
       "      <td>610627072254</td>\n",
       "      <td>หญิง</td>\n",
       "      <td>61.0</td>\n",
       "      <td>124.0</td>\n",
       "      <td>74.0</td>\n",
       "      <td>64.0</td>\n",
       "      <td>76.0</td>\n",
       "      <td>155.0</td>\n",
       "      <td>36.0</td>\n",
       "      <td>M70</td>\n",
       "      <td>[ปวด, ปวดเข่า, เจ็บ, -]</td>\n",
       "      <td>[Knee Lt AP, lat standing, Knee Rt AP, lat sta...</td>\n",
       "    </tr>\n",
       "  </tbody>\n",
       "</table>\n",
       "</div>"
      ],
      "text/plain": [
       "             vn   sex   age    bps    bpd  pulse    bw  height  temperature  \\\n",
       "0  610926001048  หญิง  52.0  170.0  110.0   64.0  86.0   154.0         36.6   \n",
       "1  601013203924  หญิง  51.0  150.0   94.0   74.0  86.0   156.0         36.4   \n",
       "2  610330191455  หญิง  70.0  157.0   33.0   61.0  50.0   152.0         36.1   \n",
       "3  610330191455  หญิง  70.0  157.0   33.0   61.0  50.0   152.0         36.1   \n",
       "4  610627072254  หญิง  61.0  124.0   74.0   64.0  76.0   155.0         36.0   \n",
       "\n",
       "     PDX                              symptoms  \\\n",
       "0    K30  [ปวด, แน่น, ปวดท้อง, แน่นใต้ลิ้นปี่]   \n",
       "1    K30                             [เหนื่อย]   \n",
       "2  R1049                         [ปวด, ปวดเอว]   \n",
       "3  R1049                         [ปวด, ปวดเอว]   \n",
       "4    M70               [ปวด, ปวดเข่า, เจ็บ, -]   \n",
       "\n",
       "                                          xray_items  \n",
       "0                                    [Acute Abdomen]  \n",
       "1                                 [Chest PA Upright]  \n",
       "2                  [LS-spine AP, lat, Acute Abdomen]  \n",
       "3                  [LS-spine AP, lat, Acute Abdomen]  \n",
       "4  [Knee Lt AP, lat standing, Knee Rt AP, lat sta...  "
      ]
     },
     "execution_count": 75,
     "metadata": {},
     "output_type": "execute_result"
    }
   ],
   "source": [
    "# Merge two files\n",
    "df = pd.merge(df_cc_new, df_xray_new, how='inner', on='vn')\n",
    "df.head()"
   ]
  },
  {
   "cell_type": "code",
   "execution_count": 77,
   "metadata": {},
   "outputs": [
    {
     "data": {
      "text/plain": [
       "False"
      ]
     },
     "execution_count": 77,
     "metadata": {},
     "output_type": "execute_result"
    }
   ],
   "source": [
    "df.isnull().values.any()"
   ]
  },
  {
   "cell_type": "markdown",
   "metadata": {},
   "source": [
    "# Feature Extraction "
   ]
  },
  {
   "cell_type": "markdown",
   "metadata": {},
   "source": [
    "## Convert text to feature"
   ]
  },
  {
   "cell_type": "code",
   "execution_count": 78,
   "metadata": {},
   "outputs": [],
   "source": [
    "df['symptoms'] = df.symptoms.apply(\"/\".join)\n",
    "df['xray_items'] = df.xray_items.apply(\"/\".join)"
   ]
  },
  {
   "cell_type": "code",
   "execution_count": 79,
   "metadata": {},
   "outputs": [],
   "source": [
    "from sklearn.feature_extraction.text import TfidfVectorizer"
   ]
  },
  {
   "cell_type": "code",
   "execution_count": 80,
   "metadata": {},
   "outputs": [],
   "source": [
    "# TFIDF - symptoms\n",
    "def slash_token(msg):\n",
    "    return msg.split('/')"
   ]
  },
  {
   "cell_type": "code",
   "execution_count": 81,
   "metadata": {},
   "outputs": [
    {
     "name": "stderr",
     "output_type": "stream",
     "text": [
      "/Users/phrare/patient_clustering/patient/lib/python3.7/site-packages/sklearn/feature_extraction/text.py:507: UserWarning: The parameter 'token_pattern' will not be used since 'tokenizer' is not None'\n",
      "  warnings.warn(\"The parameter 'token_pattern' will not be used\"\n"
     ]
    }
   ],
   "source": [
    "vectorizer = TfidfVectorizer(tokenizer=slash_token)\n",
    "vectorizer.fit(df['symptoms'])\n",
    "vector = vectorizer.transform(df['symptoms'])"
   ]
  },
  {
   "cell_type": "code",
   "execution_count": 82,
   "metadata": {},
   "outputs": [],
   "source": [
    "import scipy as sp"
   ]
  },
  {
   "cell_type": "code",
   "execution_count": 83,
   "metadata": {},
   "outputs": [],
   "source": [
    "x_symptom = sp.sparse.hstack((vector,df[['age', 'bps', 'bpd', 'pulse', 'bw', 'height', 'temperature']].values),format='csr')"
   ]
  },
  {
   "cell_type": "code",
   "execution_count": 84,
   "metadata": {},
   "outputs": [
    {
     "name": "stderr",
     "output_type": "stream",
     "text": [
      "/Users/phrare/patient_clustering/patient/lib/python3.7/site-packages/sklearn/feature_extraction/text.py:507: UserWarning: The parameter 'token_pattern' will not be used since 'tokenizer' is not None'\n",
      "  warnings.warn(\"The parameter 'token_pattern' will not be used\"\n"
     ]
    }
   ],
   "source": [
    "# vectorizer = TfidfVectorizer(tokenizer=slash_token)\n",
    "vectorizer.fit(df['xray_items'])\n",
    "vector_xray = vectorizer.transform(df['xray_items'])"
   ]
  },
  {
   "cell_type": "code",
   "execution_count": 85,
   "metadata": {},
   "outputs": [
    {
     "data": {
      "text/plain": [
       "(21586, 262)"
      ]
     },
     "execution_count": 85,
     "metadata": {},
     "output_type": "execute_result"
    }
   ],
   "source": [
    "x_symptom.shape"
   ]
  },
  {
   "cell_type": "code",
   "execution_count": 86,
   "metadata": {},
   "outputs": [],
   "source": [
    "x_xray = sp.sparse.hstack((vector_xray, df[['age', 'bps', 'bpd', 'pulse', 'bw', 'height', 'temperature']].values),format='csr')"
   ]
  },
  {
   "cell_type": "code",
   "execution_count": 87,
   "metadata": {},
   "outputs": [
    {
     "data": {
      "text/plain": [
       "(21586, 167)"
      ]
     },
     "execution_count": 87,
     "metadata": {},
     "output_type": "execute_result"
    }
   ],
   "source": [
    "x_xray.shape"
   ]
  },
  {
   "cell_type": "markdown",
   "metadata": {},
   "source": [
    "# Test to train model"
   ]
  },
  {
   "cell_type": "code",
   "execution_count": 88,
   "metadata": {},
   "outputs": [],
   "source": [
    "# Split data into train and test\n",
    "y = df.PDX\n",
    "x = x_symptom\n",
    "x_train,x_test,y_train,y_test=train_test_split(x,y,test_size=0.2)"
   ]
  },
  {
   "cell_type": "code",
   "execution_count": 93,
   "metadata": {},
   "outputs": [],
   "source": [
    "from sklearn import svm"
   ]
  },
  {
   "cell_type": "code",
   "execution_count": 94,
   "metadata": {},
   "outputs": [],
   "source": [
    "clf = svm.SVC(kernel='linear')"
   ]
  },
  {
   "cell_type": "code",
   "execution_count": 96,
   "metadata": {},
   "outputs": [
    {
     "data": {
      "text/plain": [
       "SVC(C=1.0, break_ties=False, cache_size=200, class_weight=None, coef0=0.0,\n",
       "    decision_function_shape='ovr', degree=3, gamma='scale', kernel='linear',\n",
       "    max_iter=-1, probability=False, random_state=None, shrinking=True,\n",
       "    tol=0.001, verbose=False)"
      ]
     },
     "execution_count": 96,
     "metadata": {},
     "output_type": "execute_result"
    }
   ],
   "source": [
    "# Train the models using training set\n",
    "clf.fit(x_train, y_train)"
   ]
  },
  {
   "cell_type": "code",
   "execution_count": 97,
   "metadata": {},
   "outputs": [],
   "source": [
    "y_pred = clf.predict(x_test)"
   ]
  },
  {
   "cell_type": "code",
   "execution_count": 99,
   "metadata": {},
   "outputs": [],
   "source": [
    "from sklearn import metrics"
   ]
  },
  {
   "cell_type": "code",
   "execution_count": 100,
   "metadata": {},
   "outputs": [
    {
     "name": "stdout",
     "output_type": "stream",
     "text": [
      "Accuracy: 0.2904122278832793\n"
     ]
    }
   ],
   "source": [
    "print(\"Accuracy:\",metrics.accuracy_score(y_test, y_pred))"
   ]
  },
  {
   "cell_type": "markdown",
   "metadata": {},
   "source": [
    "# Save file to pickle file"
   ]
  },
  {
   "cell_type": "code",
   "execution_count": null,
   "metadata": {},
   "outputs": [],
   "source": []
  }
 ],
 "metadata": {
  "kernelspec": {
   "display_name": "Python 3",
   "language": "python",
   "name": "python3"
  },
  "language_info": {
   "codemirror_mode": {
    "name": "ipython",
    "version": 3
   },
   "file_extension": ".py",
   "mimetype": "text/x-python",
   "name": "python",
   "nbconvert_exporter": "python",
   "pygments_lexer": "ipython3",
   "version": "3.7.4"
  }
 },
 "nbformat": 4,
 "nbformat_minor": 4
}
