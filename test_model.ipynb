{
 "cells": [
  {
   "cell_type": "code",
   "execution_count": 2,
   "metadata": {},
   "outputs": [],
   "source": [
    "import pandas as pd\n",
    "from sklearn.model_selection import train_test_split"
   ]
  },
  {
   "cell_type": "code",
   "execution_count": 3,
   "metadata": {},
   "outputs": [],
   "source": [
    "df_cc = pd.read_excel('cc61_df3_vn.xlsx')\n",
    "df_xray = pd.read_excel('Xray (2017-2018).xlsx')"
   ]
  },
  {
   "cell_type": "code",
   "execution_count": 4,
   "metadata": {},
   "outputs": [
    {
     "data": {
      "text/plain": [
       "['vn',\n",
       " 'vstdate',\n",
       " 'vsttime',\n",
       " 'sex',\n",
       " 'age_y',\n",
       " 'cc',\n",
       " 'bps',\n",
       " 'bpd',\n",
       " 'pulse',\n",
       " 'bw',\n",
       " 'height',\n",
       " 'temperature',\n",
       " 'department',\n",
       " 'PDX (1)',\n",
       " 'Comorbidity (2)',\n",
       " 'Complication (3)',\n",
       " 'Other (4)',\n",
       " 'External Cause (5)',\n",
       " 'clean_symtom(noun)',\n",
       " 'clean_symptom2(synonym)']"
      ]
     },
     "execution_count": 4,
     "metadata": {},
     "output_type": "execute_result"
    }
   ],
   "source": [
    "list(df_cc.columns)"
   ]
  },
  {
   "cell_type": "code",
   "execution_count": null,
   "metadata": {},
   "outputs": [],
   "source": [
    "# dropping null value columns to avoid errors\n",
    "df_cc.dropna(subset=['clean_symptom2(synonym)', 'bps', 'bpd', 'pulse', 'bw', 'height', 'temperature'],inplace = True)\n",
    "df_cc.head()"
   ]
  },
  {
   "cell_type": "code",
   "execution_count": null,
   "metadata": {},
   "outputs": [],
   "source": [
    "df_cc.drop(df_cc[df_cc.bw == 0].index, inplace=True)\n",
    "df_cc.drop(df_cc[df_cc.height == 0].index, inplace=True)\n",
    "df_cc.drop(df_cc[df_cc.temperature == 0].index, inplace=True)"
   ]
  },
  {
   "cell_type": "code",
   "execution_count": null,
   "metadata": {},
   "outputs": [],
   "source": [
    "list(df_cc.columns)"
   ]
  },
  {
   "cell_type": "code",
   "execution_count": null,
   "metadata": {},
   "outputs": [],
   "source": [
    "df_xray['xray_items'] = df_xray['xray_list'].str.split(\",\", n= -1)\n",
    "df_xray.head()"
   ]
  },
  {
   "cell_type": "code",
   "execution_count": null,
   "metadata": {},
   "outputs": [],
   "source": [
    "df_cc['symptoms'] = df_cc['clean_symptom2(synonym)'].str.split(\"/\", n= -1)\n",
    "df_cc.head()"
   ]
  },
  {
   "cell_type": "code",
   "execution_count": null,
   "metadata": {},
   "outputs": [],
   "source": [
    "df_cc.rename(columns={'PDX (1)': 'PDX'}, inplace=True)"
   ]
  },
  {
   "cell_type": "code",
   "execution_count": null,
   "metadata": {},
   "outputs": [],
   "source": [
    "df_cc_new = df_cc[['vn', 'sex', 'age_y', 'bps', 'bpd', 'pulse', 'bw', 'height', 'temperature', 'PDX', 'symptoms']]\n",
    "df_cc_new.head()"
   ]
  },
  {
   "cell_type": "code",
   "execution_count": null,
   "metadata": {},
   "outputs": [],
   "source": [
    "df_xray_new = df_xray[['vn', 'xray_items']]\n",
    "df_xray_new.head()"
   ]
  },
  {
   "cell_type": "code",
   "execution_count": 35,
   "metadata": {},
   "outputs": [
    {
     "data": {
      "text/html": [
       "<div>\n",
       "<style scoped>\n",
       "    .dataframe tbody tr th:only-of-type {\n",
       "        vertical-align: middle;\n",
       "    }\n",
       "\n",
       "    .dataframe tbody tr th {\n",
       "        vertical-align: top;\n",
       "    }\n",
       "\n",
       "    .dataframe thead th {\n",
       "        text-align: right;\n",
       "    }\n",
       "</style>\n",
       "<table border=\"1\" class=\"dataframe\">\n",
       "  <thead>\n",
       "    <tr style=\"text-align: right;\">\n",
       "      <th></th>\n",
       "      <th>vn</th>\n",
       "      <th>sex</th>\n",
       "      <th>age_y</th>\n",
       "      <th>bps</th>\n",
       "      <th>bpd</th>\n",
       "      <th>pulse</th>\n",
       "      <th>bw</th>\n",
       "      <th>height</th>\n",
       "      <th>temperature</th>\n",
       "      <th>PDX</th>\n",
       "      <th>symptoms</th>\n",
       "      <th>xray_items</th>\n",
       "    </tr>\n",
       "  </thead>\n",
       "  <tbody>\n",
       "    <tr>\n",
       "      <th>0</th>\n",
       "      <td>610926001048</td>\n",
       "      <td>หญิง</td>\n",
       "      <td>52.0</td>\n",
       "      <td>170.0</td>\n",
       "      <td>110.0</td>\n",
       "      <td>64.0</td>\n",
       "      <td>86.0</td>\n",
       "      <td>154.0</td>\n",
       "      <td>36.6</td>\n",
       "      <td>K30</td>\n",
       "      <td>[ปวด, แน่น, ปวดท้อง, แน่นใต้ลิ้นปี่]</td>\n",
       "      <td>[Acute Abdomen]</td>\n",
       "    </tr>\n",
       "    <tr>\n",
       "      <th>1</th>\n",
       "      <td>601013203924</td>\n",
       "      <td>หญิง</td>\n",
       "      <td>51.0</td>\n",
       "      <td>150.0</td>\n",
       "      <td>94.0</td>\n",
       "      <td>74.0</td>\n",
       "      <td>86.0</td>\n",
       "      <td>156.0</td>\n",
       "      <td>36.4</td>\n",
       "      <td>K30</td>\n",
       "      <td>[เหนื่อย]</td>\n",
       "      <td>[Chest PA Upright]</td>\n",
       "    </tr>\n",
       "    <tr>\n",
       "      <th>2</th>\n",
       "      <td>610330191455</td>\n",
       "      <td>หญิง</td>\n",
       "      <td>70.0</td>\n",
       "      <td>157.0</td>\n",
       "      <td>33.0</td>\n",
       "      <td>61.0</td>\n",
       "      <td>50.0</td>\n",
       "      <td>152.0</td>\n",
       "      <td>36.1</td>\n",
       "      <td>R1049</td>\n",
       "      <td>[ปวด, ปวดเอว]</td>\n",
       "      <td>[LS-spine AP, lat, Acute Abdomen]</td>\n",
       "    </tr>\n",
       "    <tr>\n",
       "      <th>3</th>\n",
       "      <td>610330191455</td>\n",
       "      <td>หญิง</td>\n",
       "      <td>70.0</td>\n",
       "      <td>157.0</td>\n",
       "      <td>33.0</td>\n",
       "      <td>61.0</td>\n",
       "      <td>50.0</td>\n",
       "      <td>152.0</td>\n",
       "      <td>36.1</td>\n",
       "      <td>R1049</td>\n",
       "      <td>[ปวด, ปวดเอว]</td>\n",
       "      <td>[LS-spine AP, lat, Acute Abdomen]</td>\n",
       "    </tr>\n",
       "    <tr>\n",
       "      <th>4</th>\n",
       "      <td>610627072254</td>\n",
       "      <td>หญิง</td>\n",
       "      <td>61.0</td>\n",
       "      <td>124.0</td>\n",
       "      <td>74.0</td>\n",
       "      <td>64.0</td>\n",
       "      <td>76.0</td>\n",
       "      <td>155.0</td>\n",
       "      <td>36.0</td>\n",
       "      <td>M70</td>\n",
       "      <td>[ปวด, ปวดเข่า, เจ็บ, -]</td>\n",
       "      <td>[Knee Lt AP, lat standing, Knee Rt AP, lat sta...</td>\n",
       "    </tr>\n",
       "  </tbody>\n",
       "</table>\n",
       "</div>"
      ],
      "text/plain": [
       "             vn   sex  age_y    bps    bpd  pulse    bw  height  temperature  \\\n",
       "0  610926001048  หญิง   52.0  170.0  110.0   64.0  86.0   154.0         36.6   \n",
       "1  601013203924  หญิง   51.0  150.0   94.0   74.0  86.0   156.0         36.4   \n",
       "2  610330191455  หญิง   70.0  157.0   33.0   61.0  50.0   152.0         36.1   \n",
       "3  610330191455  หญิง   70.0  157.0   33.0   61.0  50.0   152.0         36.1   \n",
       "4  610627072254  หญิง   61.0  124.0   74.0   64.0  76.0   155.0         36.0   \n",
       "\n",
       "     PDX                              symptoms  \\\n",
       "0    K30  [ปวด, แน่น, ปวดท้อง, แน่นใต้ลิ้นปี่]   \n",
       "1    K30                             [เหนื่อย]   \n",
       "2  R1049                         [ปวด, ปวดเอว]   \n",
       "3  R1049                         [ปวด, ปวดเอว]   \n",
       "4    M70               [ปวด, ปวดเข่า, เจ็บ, -]   \n",
       "\n",
       "                                          xray_items  \n",
       "0                                    [Acute Abdomen]  \n",
       "1                                 [Chest PA Upright]  \n",
       "2                  [LS-spine AP, lat, Acute Abdomen]  \n",
       "3                  [LS-spine AP, lat, Acute Abdomen]  \n",
       "4  [Knee Lt AP, lat standing, Knee Rt AP, lat sta...  "
      ]
     },
     "execution_count": 35,
     "metadata": {},
     "output_type": "execute_result"
    }
   ],
   "source": [
    "df = pd.merge(df_cc_new, df_xray_new, how='inner', on='vn')\n",
    "df.head()"
   ]
  },
  {
   "cell_type": "code",
   "execution_count": 36,
   "metadata": {},
   "outputs": [
    {
     "data": {
      "text/plain": [
       "(21611, 12)"
      ]
     },
     "execution_count": 36,
     "metadata": {},
     "output_type": "execute_result"
    }
   ],
   "source": [
    "df.shape"
   ]
  },
  {
   "cell_type": "code",
   "execution_count": 37,
   "metadata": {},
   "outputs": [],
   "source": [
    "df['symptoms'] = df.symptoms.apply(\"/\".join)\n",
    "df['xray_items'] = df.xray_items.apply(\"/\".join)"
   ]
  },
  {
   "cell_type": "code",
   "execution_count": 38,
   "metadata": {},
   "outputs": [],
   "source": [
    "from sklearn.feature_extraction.text import TfidfVectorizer"
   ]
  },
  {
   "cell_type": "code",
   "execution_count": 39,
   "metadata": {},
   "outputs": [],
   "source": [
    "# TFIDF - symptoms\n",
    "def slash_token(msg):\n",
    "    return msg.split('/')"
   ]
  },
  {
   "cell_type": "code",
   "execution_count": 40,
   "metadata": {},
   "outputs": [
    {
     "data": {
      "text/plain": [
       "str"
      ]
     },
     "execution_count": 40,
     "metadata": {},
     "output_type": "execute_result"
    }
   ],
   "source": [
    "type(df['symptoms'][1])"
   ]
  },
  {
   "cell_type": "code",
   "execution_count": 41,
   "metadata": {},
   "outputs": [
    {
     "name": "stderr",
     "output_type": "stream",
     "text": [
      "/Users/phrare/patient_clustering/patient/lib/python3.7/site-packages/sklearn/feature_extraction/text.py:507: UserWarning: The parameter 'token_pattern' will not be used since 'tokenizer' is not None'\n",
      "  warnings.warn(\"The parameter 'token_pattern' will not be used\"\n"
     ]
    }
   ],
   "source": [
    "vectorizer = TfidfVectorizer(tokenizer=slash_token)\n",
    "vectorizer.fit(df['symptoms'])\n",
    "vector = vectorizer.transform(df['symptoms'])"
   ]
  },
  {
   "cell_type": "code",
   "execution_count": 42,
   "metadata": {},
   "outputs": [
    {
     "data": {
      "text/plain": [
       "(21611, 255)"
      ]
     },
     "execution_count": 42,
     "metadata": {},
     "output_type": "execute_result"
    }
   ],
   "source": [
    "vector.shape"
   ]
  },
  {
   "cell_type": "code",
   "execution_count": 43,
   "metadata": {},
   "outputs": [
    {
     "name": "stdout",
     "output_type": "stream",
     "text": [
      "<class 'pandas.core.frame.DataFrame'>\n",
      "Int64Index: 21611 entries, 0 to 21610\n",
      "Data columns (total 12 columns):\n",
      " #   Column       Non-Null Count  Dtype  \n",
      "---  ------       --------------  -----  \n",
      " 0   vn           21611 non-null  int64  \n",
      " 1   sex          21611 non-null  object \n",
      " 2   age_y        21611 non-null  float64\n",
      " 3   bps          21611 non-null  float64\n",
      " 4   bpd          21611 non-null  float64\n",
      " 5   pulse        21611 non-null  float64\n",
      " 6   bw           21611 non-null  float64\n",
      " 7   height       21611 non-null  float64\n",
      " 8   temperature  21611 non-null  float64\n",
      " 9   PDX          21586 non-null  object \n",
      " 10  symptoms     21611 non-null  object \n",
      " 11  xray_items   21611 non-null  object \n",
      "dtypes: float64(7), int64(1), object(4)\n",
      "memory usage: 2.8+ MB\n"
     ]
    }
   ],
   "source": [
    "df.info()"
   ]
  },
  {
   "cell_type": "code",
   "execution_count": 44,
   "metadata": {},
   "outputs": [],
   "source": [
    "import scipy as sp"
   ]
  },
  {
   "cell_type": "code",
   "execution_count": 45,
   "metadata": {},
   "outputs": [],
   "source": [
    "x = sp.sparse.hstack((vector,df[['age_y']].values),format='csr')"
   ]
  },
  {
   "cell_type": "code",
   "execution_count": 46,
   "metadata": {},
   "outputs": [
    {
     "data": {
      "text/plain": [
       "(21611, 256)"
      ]
     },
     "execution_count": 46,
     "metadata": {},
     "output_type": "execute_result"
    }
   ],
   "source": [
    "x.shape"
   ]
  },
  {
   "cell_type": "code",
   "execution_count": 55,
   "metadata": {},
   "outputs": [
    {
     "data": {
      "text/plain": [
       "array([[52.],\n",
       "       [51.],\n",
       "       [70.],\n",
       "       ...,\n",
       "       [ 5.],\n",
       "       [14.],\n",
       "       [ 7.]])"
      ]
     },
     "execution_count": 55,
     "metadata": {},
     "output_type": "execute_result"
    }
   ],
   "source": [
    "df[['age_y']].values"
   ]
  },
  {
   "cell_type": "code",
   "execution_count": 43,
   "metadata": {},
   "outputs": [
    {
     "data": {
      "text/plain": [
       "(21611, 255)"
      ]
     },
     "execution_count": 43,
     "metadata": {},
     "output_type": "execute_result"
    }
   ],
   "source": [
    "vector.shape"
   ]
  },
  {
   "cell_type": "code",
   "execution_count": 148,
   "metadata": {},
   "outputs": [],
   "source": [
    "import numpy as np"
   ]
  },
  {
   "cell_type": "code",
   "execution_count": 152,
   "metadata": {},
   "outputs": [],
   "source": [
    "symptoms_num = np.squeeze(np.asarray(vector))"
   ]
  },
  {
   "cell_type": "code",
   "execution_count": 138,
   "metadata": {},
   "outputs": [],
   "source": [
    "symptoms_num = symptoms_num.transpose()"
   ]
  },
  {
   "cell_type": "code",
   "execution_count": 153,
   "metadata": {},
   "outputs": [
    {
     "data": {
      "text/plain": [
       "()"
      ]
     },
     "execution_count": 153,
     "metadata": {},
     "output_type": "execute_result"
    }
   ],
   "source": [
    "symptoms_num.shape"
   ]
  },
  {
   "cell_type": "code",
   "execution_count": 154,
   "metadata": {},
   "outputs": [],
   "source": [
    "df.insert(11, 'symptoms_num', symptoms_num)"
   ]
  },
  {
   "cell_type": "code",
   "execution_count": 155,
   "metadata": {},
   "outputs": [
    {
     "data": {
      "text/html": [
       "<div>\n",
       "<style scoped>\n",
       "    .dataframe tbody tr th:only-of-type {\n",
       "        vertical-align: middle;\n",
       "    }\n",
       "\n",
       "    .dataframe tbody tr th {\n",
       "        vertical-align: top;\n",
       "    }\n",
       "\n",
       "    .dataframe thead th {\n",
       "        text-align: right;\n",
       "    }\n",
       "</style>\n",
       "<table border=\"1\" class=\"dataframe\">\n",
       "  <thead>\n",
       "    <tr style=\"text-align: right;\">\n",
       "      <th></th>\n",
       "      <th>vn</th>\n",
       "      <th>sex</th>\n",
       "      <th>age_y</th>\n",
       "      <th>bps</th>\n",
       "      <th>bpd</th>\n",
       "      <th>pulse</th>\n",
       "      <th>bw</th>\n",
       "      <th>height</th>\n",
       "      <th>temperature</th>\n",
       "      <th>PDX</th>\n",
       "      <th>symptoms</th>\n",
       "      <th>symptoms_num</th>\n",
       "      <th>xray_items</th>\n",
       "    </tr>\n",
       "  </thead>\n",
       "  <tbody>\n",
       "    <tr>\n",
       "      <th>0</th>\n",
       "      <td>610926001048</td>\n",
       "      <td>หญิง</td>\n",
       "      <td>52.0</td>\n",
       "      <td>170.0</td>\n",
       "      <td>110.0</td>\n",
       "      <td>64.0</td>\n",
       "      <td>86.0</td>\n",
       "      <td>154.0</td>\n",
       "      <td>36.6</td>\n",
       "      <td>K30</td>\n",
       "      <td>ปวด/แน่น/ปวดท้อง/แน่นใต้ลิ้นปี่</td>\n",
       "      <td>(0, 229)\\t0.727066710268303\\n  (0, 225)\\t0.4...</td>\n",
       "      <td>Acute Abdomen</td>\n",
       "    </tr>\n",
       "    <tr>\n",
       "      <th>1</th>\n",
       "      <td>601013203924</td>\n",
       "      <td>หญิง</td>\n",
       "      <td>51.0</td>\n",
       "      <td>150.0</td>\n",
       "      <td>94.0</td>\n",
       "      <td>74.0</td>\n",
       "      <td>86.0</td>\n",
       "      <td>156.0</td>\n",
       "      <td>36.4</td>\n",
       "      <td>K30</td>\n",
       "      <td>เหนื่อย</td>\n",
       "      <td>(0, 229)\\t0.727066710268303\\n  (0, 225)\\t0.4...</td>\n",
       "      <td>Chest PA Upright</td>\n",
       "    </tr>\n",
       "    <tr>\n",
       "      <th>2</th>\n",
       "      <td>610330191455</td>\n",
       "      <td>หญิง</td>\n",
       "      <td>70.0</td>\n",
       "      <td>157.0</td>\n",
       "      <td>33.0</td>\n",
       "      <td>61.0</td>\n",
       "      <td>50.0</td>\n",
       "      <td>152.0</td>\n",
       "      <td>36.1</td>\n",
       "      <td>R1049</td>\n",
       "      <td>ปวด/ปวดเอว</td>\n",
       "      <td>(0, 229)\\t0.727066710268303\\n  (0, 225)\\t0.4...</td>\n",
       "      <td>LS-spine AP/lat/Acute Abdomen</td>\n",
       "    </tr>\n",
       "    <tr>\n",
       "      <th>3</th>\n",
       "      <td>610330191455</td>\n",
       "      <td>หญิง</td>\n",
       "      <td>70.0</td>\n",
       "      <td>157.0</td>\n",
       "      <td>33.0</td>\n",
       "      <td>61.0</td>\n",
       "      <td>50.0</td>\n",
       "      <td>152.0</td>\n",
       "      <td>36.1</td>\n",
       "      <td>R1049</td>\n",
       "      <td>ปวด/ปวดเอว</td>\n",
       "      <td>(0, 229)\\t0.727066710268303\\n  (0, 225)\\t0.4...</td>\n",
       "      <td>LS-spine AP/lat/Acute Abdomen</td>\n",
       "    </tr>\n",
       "    <tr>\n",
       "      <th>4</th>\n",
       "      <td>610627072254</td>\n",
       "      <td>หญิง</td>\n",
       "      <td>61.0</td>\n",
       "      <td>124.0</td>\n",
       "      <td>74.0</td>\n",
       "      <td>64.0</td>\n",
       "      <td>76.0</td>\n",
       "      <td>155.0</td>\n",
       "      <td>36.0</td>\n",
       "      <td>M70</td>\n",
       "      <td>ปวด/ปวดเข่า/เจ็บ/-</td>\n",
       "      <td>(0, 229)\\t0.727066710268303\\n  (0, 225)\\t0.4...</td>\n",
       "      <td>Knee Lt AP/lat standing/Knee Rt AP/lat standing</td>\n",
       "    </tr>\n",
       "  </tbody>\n",
       "</table>\n",
       "</div>"
      ],
      "text/plain": [
       "             vn   sex  age_y    bps    bpd  pulse    bw  height  temperature  \\\n",
       "0  610926001048  หญิง   52.0  170.0  110.0   64.0  86.0   154.0         36.6   \n",
       "1  601013203924  หญิง   51.0  150.0   94.0   74.0  86.0   156.0         36.4   \n",
       "2  610330191455  หญิง   70.0  157.0   33.0   61.0  50.0   152.0         36.1   \n",
       "3  610330191455  หญิง   70.0  157.0   33.0   61.0  50.0   152.0         36.1   \n",
       "4  610627072254  หญิง   61.0  124.0   74.0   64.0  76.0   155.0         36.0   \n",
       "\n",
       "     PDX                         symptoms  \\\n",
       "0    K30  ปวด/แน่น/ปวดท้อง/แน่นใต้ลิ้นปี่   \n",
       "1    K30                          เหนื่อย   \n",
       "2  R1049                       ปวด/ปวดเอว   \n",
       "3  R1049                       ปวด/ปวดเอว   \n",
       "4    M70               ปวด/ปวดเข่า/เจ็บ/-   \n",
       "\n",
       "                                        symptoms_num  \\\n",
       "0    (0, 229)\\t0.727066710268303\\n  (0, 225)\\t0.4...   \n",
       "1    (0, 229)\\t0.727066710268303\\n  (0, 225)\\t0.4...   \n",
       "2    (0, 229)\\t0.727066710268303\\n  (0, 225)\\t0.4...   \n",
       "3    (0, 229)\\t0.727066710268303\\n  (0, 225)\\t0.4...   \n",
       "4    (0, 229)\\t0.727066710268303\\n  (0, 225)\\t0.4...   \n",
       "\n",
       "                                        xray_items  \n",
       "0                                    Acute Abdomen  \n",
       "1                                 Chest PA Upright  \n",
       "2                    LS-spine AP/lat/Acute Abdomen  \n",
       "3                    LS-spine AP/lat/Acute Abdomen  \n",
       "4  Knee Lt AP/lat standing/Knee Rt AP/lat standing  "
      ]
     },
     "execution_count": 155,
     "metadata": {},
     "output_type": "execute_result"
    }
   ],
   "source": [
    "df.head()"
   ]
  },
  {
   "cell_type": "code",
   "execution_count": 156,
   "metadata": {},
   "outputs": [
    {
     "name": "stderr",
     "output_type": "stream",
     "text": [
      "/Users/phrare/patient_clustering/patient/lib/python3.7/site-packages/sklearn/feature_extraction/text.py:507: UserWarning: The parameter 'token_pattern' will not be used since 'tokenizer' is not None'\n",
      "  warnings.warn(\"The parameter 'token_pattern' will not be used\"\n"
     ]
    }
   ],
   "source": [
    "# vectorizer = TfidfVectorizer(tokenizer=slash_token)\n",
    "vectorizer.fit(df['xray_items'])\n",
    "vector_xray = vectorizer.transform(df['xray_items'])"
   ]
  },
  {
   "cell_type": "code",
   "execution_count": 157,
   "metadata": {},
   "outputs": [],
   "source": [
    "xray_num = np.squeeze(np.asarray(vector_xray))"
   ]
  },
  {
   "cell_type": "code",
   "execution_count": 158,
   "metadata": {},
   "outputs": [],
   "source": [
    "df.insert(13, 'xray_num', xray_num)"
   ]
  },
  {
   "cell_type": "code",
   "execution_count": 159,
   "metadata": {},
   "outputs": [
    {
     "data": {
      "text/html": [
       "<div>\n",
       "<style scoped>\n",
       "    .dataframe tbody tr th:only-of-type {\n",
       "        vertical-align: middle;\n",
       "    }\n",
       "\n",
       "    .dataframe tbody tr th {\n",
       "        vertical-align: top;\n",
       "    }\n",
       "\n",
       "    .dataframe thead th {\n",
       "        text-align: right;\n",
       "    }\n",
       "</style>\n",
       "<table border=\"1\" class=\"dataframe\">\n",
       "  <thead>\n",
       "    <tr style=\"text-align: right;\">\n",
       "      <th></th>\n",
       "      <th>vn</th>\n",
       "      <th>sex</th>\n",
       "      <th>age_y</th>\n",
       "      <th>bps</th>\n",
       "      <th>bpd</th>\n",
       "      <th>pulse</th>\n",
       "      <th>bw</th>\n",
       "      <th>height</th>\n",
       "      <th>temperature</th>\n",
       "      <th>PDX</th>\n",
       "      <th>symptoms</th>\n",
       "      <th>symptoms_num</th>\n",
       "      <th>xray_items</th>\n",
       "      <th>xray_num</th>\n",
       "    </tr>\n",
       "  </thead>\n",
       "  <tbody>\n",
       "    <tr>\n",
       "      <th>0</th>\n",
       "      <td>610926001048</td>\n",
       "      <td>หญิง</td>\n",
       "      <td>52.0</td>\n",
       "      <td>170.0</td>\n",
       "      <td>110.0</td>\n",
       "      <td>64.0</td>\n",
       "      <td>86.0</td>\n",
       "      <td>154.0</td>\n",
       "      <td>36.6</td>\n",
       "      <td>K30</td>\n",
       "      <td>ปวด/แน่น/ปวดท้อง/แน่นใต้ลิ้นปี่</td>\n",
       "      <td>(0, 229)\\t0.727066710268303\\n  (0, 225)\\t0.4...</td>\n",
       "      <td>Acute Abdomen</td>\n",
       "      <td>(0, 5)\\t1.0\\n  (1, 24)\\t1.0\\n  (2, 65)\\t0.61...</td>\n",
       "    </tr>\n",
       "    <tr>\n",
       "      <th>1</th>\n",
       "      <td>601013203924</td>\n",
       "      <td>หญิง</td>\n",
       "      <td>51.0</td>\n",
       "      <td>150.0</td>\n",
       "      <td>94.0</td>\n",
       "      <td>74.0</td>\n",
       "      <td>86.0</td>\n",
       "      <td>156.0</td>\n",
       "      <td>36.4</td>\n",
       "      <td>K30</td>\n",
       "      <td>เหนื่อย</td>\n",
       "      <td>(0, 229)\\t0.727066710268303\\n  (0, 225)\\t0.4...</td>\n",
       "      <td>Chest PA Upright</td>\n",
       "      <td>(0, 5)\\t1.0\\n  (1, 24)\\t1.0\\n  (2, 65)\\t0.61...</td>\n",
       "    </tr>\n",
       "    <tr>\n",
       "      <th>2</th>\n",
       "      <td>610330191455</td>\n",
       "      <td>หญิง</td>\n",
       "      <td>70.0</td>\n",
       "      <td>157.0</td>\n",
       "      <td>33.0</td>\n",
       "      <td>61.0</td>\n",
       "      <td>50.0</td>\n",
       "      <td>152.0</td>\n",
       "      <td>36.1</td>\n",
       "      <td>R1049</td>\n",
       "      <td>ปวด/ปวดเอว</td>\n",
       "      <td>(0, 229)\\t0.727066710268303\\n  (0, 225)\\t0.4...</td>\n",
       "      <td>LS-spine AP/lat/Acute Abdomen</td>\n",
       "      <td>(0, 5)\\t1.0\\n  (1, 24)\\t1.0\\n  (2, 65)\\t0.61...</td>\n",
       "    </tr>\n",
       "    <tr>\n",
       "      <th>3</th>\n",
       "      <td>610330191455</td>\n",
       "      <td>หญิง</td>\n",
       "      <td>70.0</td>\n",
       "      <td>157.0</td>\n",
       "      <td>33.0</td>\n",
       "      <td>61.0</td>\n",
       "      <td>50.0</td>\n",
       "      <td>152.0</td>\n",
       "      <td>36.1</td>\n",
       "      <td>R1049</td>\n",
       "      <td>ปวด/ปวดเอว</td>\n",
       "      <td>(0, 229)\\t0.727066710268303\\n  (0, 225)\\t0.4...</td>\n",
       "      <td>LS-spine AP/lat/Acute Abdomen</td>\n",
       "      <td>(0, 5)\\t1.0\\n  (1, 24)\\t1.0\\n  (2, 65)\\t0.61...</td>\n",
       "    </tr>\n",
       "    <tr>\n",
       "      <th>4</th>\n",
       "      <td>610627072254</td>\n",
       "      <td>หญิง</td>\n",
       "      <td>61.0</td>\n",
       "      <td>124.0</td>\n",
       "      <td>74.0</td>\n",
       "      <td>64.0</td>\n",
       "      <td>76.0</td>\n",
       "      <td>155.0</td>\n",
       "      <td>36.0</td>\n",
       "      <td>M70</td>\n",
       "      <td>ปวด/ปวดเข่า/เจ็บ/-</td>\n",
       "      <td>(0, 229)\\t0.727066710268303\\n  (0, 225)\\t0.4...</td>\n",
       "      <td>Knee Lt AP/lat standing/Knee Rt AP/lat standing</td>\n",
       "      <td>(0, 5)\\t1.0\\n  (1, 24)\\t1.0\\n  (2, 65)\\t0.61...</td>\n",
       "    </tr>\n",
       "  </tbody>\n",
       "</table>\n",
       "</div>"
      ],
      "text/plain": [
       "             vn   sex  age_y    bps    bpd  pulse    bw  height  temperature  \\\n",
       "0  610926001048  หญิง   52.0  170.0  110.0   64.0  86.0   154.0         36.6   \n",
       "1  601013203924  หญิง   51.0  150.0   94.0   74.0  86.0   156.0         36.4   \n",
       "2  610330191455  หญิง   70.0  157.0   33.0   61.0  50.0   152.0         36.1   \n",
       "3  610330191455  หญิง   70.0  157.0   33.0   61.0  50.0   152.0         36.1   \n",
       "4  610627072254  หญิง   61.0  124.0   74.0   64.0  76.0   155.0         36.0   \n",
       "\n",
       "     PDX                         symptoms  \\\n",
       "0    K30  ปวด/แน่น/ปวดท้อง/แน่นใต้ลิ้นปี่   \n",
       "1    K30                          เหนื่อย   \n",
       "2  R1049                       ปวด/ปวดเอว   \n",
       "3  R1049                       ปวด/ปวดเอว   \n",
       "4    M70               ปวด/ปวดเข่า/เจ็บ/-   \n",
       "\n",
       "                                        symptoms_num  \\\n",
       "0    (0, 229)\\t0.727066710268303\\n  (0, 225)\\t0.4...   \n",
       "1    (0, 229)\\t0.727066710268303\\n  (0, 225)\\t0.4...   \n",
       "2    (0, 229)\\t0.727066710268303\\n  (0, 225)\\t0.4...   \n",
       "3    (0, 229)\\t0.727066710268303\\n  (0, 225)\\t0.4...   \n",
       "4    (0, 229)\\t0.727066710268303\\n  (0, 225)\\t0.4...   \n",
       "\n",
       "                                        xray_items  \\\n",
       "0                                    Acute Abdomen   \n",
       "1                                 Chest PA Upright   \n",
       "2                    LS-spine AP/lat/Acute Abdomen   \n",
       "3                    LS-spine AP/lat/Acute Abdomen   \n",
       "4  Knee Lt AP/lat standing/Knee Rt AP/lat standing   \n",
       "\n",
       "                                            xray_num  \n",
       "0    (0, 5)\\t1.0\\n  (1, 24)\\t1.0\\n  (2, 65)\\t0.61...  \n",
       "1    (0, 5)\\t1.0\\n  (1, 24)\\t1.0\\n  (2, 65)\\t0.61...  \n",
       "2    (0, 5)\\t1.0\\n  (1, 24)\\t1.0\\n  (2, 65)\\t0.61...  \n",
       "3    (0, 5)\\t1.0\\n  (1, 24)\\t1.0\\n  (2, 65)\\t0.61...  \n",
       "4    (0, 5)\\t1.0\\n  (1, 24)\\t1.0\\n  (2, 65)\\t0.61...  "
      ]
     },
     "execution_count": 159,
     "metadata": {},
     "output_type": "execute_result"
    }
   ],
   "source": [
    "df.head()"
   ]
  },
  {
   "cell_type": "code",
   "execution_count": 160,
   "metadata": {},
   "outputs": [],
   "source": [
    "df.drop(['vn', 'sex', 'symptoms', 'xray_items'], axis = 1, inplace=True) "
   ]
  },
  {
   "cell_type": "code",
   "execution_count": 161,
   "metadata": {},
   "outputs": [
    {
     "data": {
      "text/html": [
       "<div>\n",
       "<style scoped>\n",
       "    .dataframe tbody tr th:only-of-type {\n",
       "        vertical-align: middle;\n",
       "    }\n",
       "\n",
       "    .dataframe tbody tr th {\n",
       "        vertical-align: top;\n",
       "    }\n",
       "\n",
       "    .dataframe thead th {\n",
       "        text-align: right;\n",
       "    }\n",
       "</style>\n",
       "<table border=\"1\" class=\"dataframe\">\n",
       "  <thead>\n",
       "    <tr style=\"text-align: right;\">\n",
       "      <th></th>\n",
       "      <th>age_y</th>\n",
       "      <th>bps</th>\n",
       "      <th>bpd</th>\n",
       "      <th>pulse</th>\n",
       "      <th>bw</th>\n",
       "      <th>height</th>\n",
       "      <th>temperature</th>\n",
       "      <th>symptoms_num</th>\n",
       "      <th>xray_num</th>\n",
       "    </tr>\n",
       "  </thead>\n",
       "  <tbody>\n",
       "    <tr>\n",
       "      <th>11807</th>\n",
       "      <td>55.0</td>\n",
       "      <td>142.0</td>\n",
       "      <td>80.0</td>\n",
       "      <td>76.0</td>\n",
       "      <td>80.0</td>\n",
       "      <td>165.0</td>\n",
       "      <td>36.2</td>\n",
       "      <td>(0, 229)\\t0.727066710268303\\n  (0, 225)\\t0.4...</td>\n",
       "      <td>(0, 5)\\t1.0\\n  (1, 24)\\t1.0\\n  (2, 65)\\t0.61...</td>\n",
       "    </tr>\n",
       "    <tr>\n",
       "      <th>19624</th>\n",
       "      <td>0.0</td>\n",
       "      <td>0.0</td>\n",
       "      <td>0.0</td>\n",
       "      <td>0.0</td>\n",
       "      <td>7.6</td>\n",
       "      <td>71.0</td>\n",
       "      <td>37.6</td>\n",
       "      <td>(0, 229)\\t0.727066710268303\\n  (0, 225)\\t0.4...</td>\n",
       "      <td>(0, 5)\\t1.0\\n  (1, 24)\\t1.0\\n  (2, 65)\\t0.61...</td>\n",
       "    </tr>\n",
       "    <tr>\n",
       "      <th>4587</th>\n",
       "      <td>94.0</td>\n",
       "      <td>110.0</td>\n",
       "      <td>60.0</td>\n",
       "      <td>90.0</td>\n",
       "      <td>50.0</td>\n",
       "      <td>148.0</td>\n",
       "      <td>37.5</td>\n",
       "      <td>(0, 229)\\t0.727066710268303\\n  (0, 225)\\t0.4...</td>\n",
       "      <td>(0, 5)\\t1.0\\n  (1, 24)\\t1.0\\n  (2, 65)\\t0.61...</td>\n",
       "    </tr>\n",
       "    <tr>\n",
       "      <th>9113</th>\n",
       "      <td>60.0</td>\n",
       "      <td>150.0</td>\n",
       "      <td>90.0</td>\n",
       "      <td>76.0</td>\n",
       "      <td>46.4</td>\n",
       "      <td>157.0</td>\n",
       "      <td>37.0</td>\n",
       "      <td>(0, 229)\\t0.727066710268303\\n  (0, 225)\\t0.4...</td>\n",
       "      <td>(0, 5)\\t1.0\\n  (1, 24)\\t1.0\\n  (2, 65)\\t0.61...</td>\n",
       "    </tr>\n",
       "    <tr>\n",
       "      <th>7957</th>\n",
       "      <td>85.0</td>\n",
       "      <td>130.0</td>\n",
       "      <td>70.0</td>\n",
       "      <td>126.0</td>\n",
       "      <td>56.0</td>\n",
       "      <td>163.0</td>\n",
       "      <td>36.8</td>\n",
       "      <td>(0, 229)\\t0.727066710268303\\n  (0, 225)\\t0.4...</td>\n",
       "      <td>(0, 5)\\t1.0\\n  (1, 24)\\t1.0\\n  (2, 65)\\t0.61...</td>\n",
       "    </tr>\n",
       "  </tbody>\n",
       "</table>\n",
       "</div>"
      ],
      "text/plain": [
       "       age_y    bps   bpd  pulse    bw  height  temperature  \\\n",
       "11807   55.0  142.0  80.0   76.0  80.0   165.0         36.2   \n",
       "19624    0.0    0.0   0.0    0.0   7.6    71.0         37.6   \n",
       "4587    94.0  110.0  60.0   90.0  50.0   148.0         37.5   \n",
       "9113    60.0  150.0  90.0   76.0  46.4   157.0         37.0   \n",
       "7957    85.0  130.0  70.0  126.0  56.0   163.0         36.8   \n",
       "\n",
       "                                            symptoms_num  \\\n",
       "11807    (0, 229)\\t0.727066710268303\\n  (0, 225)\\t0.4...   \n",
       "19624    (0, 229)\\t0.727066710268303\\n  (0, 225)\\t0.4...   \n",
       "4587     (0, 229)\\t0.727066710268303\\n  (0, 225)\\t0.4...   \n",
       "9113     (0, 229)\\t0.727066710268303\\n  (0, 225)\\t0.4...   \n",
       "7957     (0, 229)\\t0.727066710268303\\n  (0, 225)\\t0.4...   \n",
       "\n",
       "                                                xray_num  \n",
       "11807    (0, 5)\\t1.0\\n  (1, 24)\\t1.0\\n  (2, 65)\\t0.61...  \n",
       "19624    (0, 5)\\t1.0\\n  (1, 24)\\t1.0\\n  (2, 65)\\t0.61...  \n",
       "4587     (0, 5)\\t1.0\\n  (1, 24)\\t1.0\\n  (2, 65)\\t0.61...  \n",
       "9113     (0, 5)\\t1.0\\n  (1, 24)\\t1.0\\n  (2, 65)\\t0.61...  \n",
       "7957     (0, 5)\\t1.0\\n  (1, 24)\\t1.0\\n  (2, 65)\\t0.61...  "
      ]
     },
     "execution_count": 161,
     "metadata": {},
     "output_type": "execute_result"
    }
   ],
   "source": [
    "# Split data into train and test\n",
    "y = df.PDX\n",
    "x = df.drop('PDX',axis=1)\n",
    "x_train,x_test,y_train,y_test=train_test_split(x,y,test_size=0.2)\n",
    "x_train.head()"
   ]
  },
  {
   "cell_type": "code",
   "execution_count": 162,
   "metadata": {},
   "outputs": [
    {
     "data": {
      "text/plain": [
       "(17288, 9)"
      ]
     },
     "execution_count": 162,
     "metadata": {},
     "output_type": "execute_result"
    }
   ],
   "source": [
    "x_train.shape"
   ]
  },
  {
   "cell_type": "code",
   "execution_count": 163,
   "metadata": {},
   "outputs": [
    {
     "data": {
      "text/plain": [
       "numpy.ndarray"
      ]
     },
     "execution_count": 163,
     "metadata": {},
     "output_type": "execute_result"
    }
   ],
   "source": [
    "type(symptoms_num)"
   ]
  },
  {
   "cell_type": "code",
   "execution_count": 164,
   "metadata": {},
   "outputs": [
    {
     "data": {
      "text/plain": [
       "(4323, 9)"
      ]
     },
     "execution_count": 164,
     "metadata": {},
     "output_type": "execute_result"
    }
   ],
   "source": [
    "x_test.shape"
   ]
  },
  {
   "cell_type": "code",
   "execution_count": 172,
   "metadata": {},
   "outputs": [],
   "source": [
    "from sklearn.svm import SVC"
   ]
  },
  {
   "cell_type": "code",
   "execution_count": 173,
   "metadata": {},
   "outputs": [],
   "source": [
    "svclassifier = SVC()"
   ]
  },
  {
   "cell_type": "code",
   "execution_count": 174,
   "metadata": {},
   "outputs": [
    {
     "ename": "ValueError",
     "evalue": "setting an array element with a sequence.",
     "output_type": "error",
     "traceback": [
      "\u001b[0;31m---------------------------------------------------------------------------\u001b[0m",
      "\u001b[0;31mTypeError\u001b[0m                                 Traceback (most recent call last)",
      "\u001b[0;31mTypeError\u001b[0m: float() argument must be a string or a number, not 'csr_matrix'",
      "\nThe above exception was the direct cause of the following exception:\n",
      "\u001b[0;31mValueError\u001b[0m                                Traceback (most recent call last)",
      "\u001b[0;32m<ipython-input-174-da2c773b625e>\u001b[0m in \u001b[0;36m<module>\u001b[0;34m\u001b[0m\n\u001b[0;32m----> 1\u001b[0;31m \u001b[0msvclassifier\u001b[0m\u001b[0;34m.\u001b[0m\u001b[0mfit\u001b[0m\u001b[0;34m(\u001b[0m\u001b[0mx_train\u001b[0m\u001b[0;34m,\u001b[0m \u001b[0my_train\u001b[0m\u001b[0;34m)\u001b[0m\u001b[0;34m\u001b[0m\u001b[0;34m\u001b[0m\u001b[0m\n\u001b[0m",
      "\u001b[0;32m~/patient_clustering/patient/lib/python3.7/site-packages/sklearn/svm/_base.py\u001b[0m in \u001b[0;36mfit\u001b[0;34m(self, X, y, sample_weight)\u001b[0m\n\u001b[1;32m    146\u001b[0m         X, y = check_X_y(X, y, dtype=np.float64,\n\u001b[1;32m    147\u001b[0m                          \u001b[0morder\u001b[0m\u001b[0;34m=\u001b[0m\u001b[0;34m'C'\u001b[0m\u001b[0;34m,\u001b[0m \u001b[0maccept_sparse\u001b[0m\u001b[0;34m=\u001b[0m\u001b[0;34m'csr'\u001b[0m\u001b[0;34m,\u001b[0m\u001b[0;34m\u001b[0m\u001b[0;34m\u001b[0m\u001b[0m\n\u001b[0;32m--> 148\u001b[0;31m                          accept_large_sparse=False)\n\u001b[0m\u001b[1;32m    149\u001b[0m         \u001b[0my\u001b[0m \u001b[0;34m=\u001b[0m \u001b[0mself\u001b[0m\u001b[0;34m.\u001b[0m\u001b[0m_validate_targets\u001b[0m\u001b[0;34m(\u001b[0m\u001b[0my\u001b[0m\u001b[0;34m)\u001b[0m\u001b[0;34m\u001b[0m\u001b[0;34m\u001b[0m\u001b[0m\n\u001b[1;32m    150\u001b[0m \u001b[0;34m\u001b[0m\u001b[0m\n",
      "\u001b[0;32m~/patient_clustering/patient/lib/python3.7/site-packages/sklearn/utils/validation.py\u001b[0m in \u001b[0;36mcheck_X_y\u001b[0;34m(X, y, accept_sparse, accept_large_sparse, dtype, order, copy, force_all_finite, ensure_2d, allow_nd, multi_output, ensure_min_samples, ensure_min_features, y_numeric, warn_on_dtype, estimator)\u001b[0m\n\u001b[1;32m    753\u001b[0m                     \u001b[0mensure_min_features\u001b[0m\u001b[0;34m=\u001b[0m\u001b[0mensure_min_features\u001b[0m\u001b[0;34m,\u001b[0m\u001b[0;34m\u001b[0m\u001b[0;34m\u001b[0m\u001b[0m\n\u001b[1;32m    754\u001b[0m                     \u001b[0mwarn_on_dtype\u001b[0m\u001b[0;34m=\u001b[0m\u001b[0mwarn_on_dtype\u001b[0m\u001b[0;34m,\u001b[0m\u001b[0;34m\u001b[0m\u001b[0;34m\u001b[0m\u001b[0m\n\u001b[0;32m--> 755\u001b[0;31m                     estimator=estimator)\n\u001b[0m\u001b[1;32m    756\u001b[0m     \u001b[0;32mif\u001b[0m \u001b[0mmulti_output\u001b[0m\u001b[0;34m:\u001b[0m\u001b[0;34m\u001b[0m\u001b[0;34m\u001b[0m\u001b[0m\n\u001b[1;32m    757\u001b[0m         y = check_array(y, 'csr', force_all_finite=True, ensure_2d=False,\n",
      "\u001b[0;32m~/patient_clustering/patient/lib/python3.7/site-packages/sklearn/utils/validation.py\u001b[0m in \u001b[0;36mcheck_array\u001b[0;34m(array, accept_sparse, accept_large_sparse, dtype, order, copy, force_all_finite, ensure_2d, allow_nd, ensure_min_samples, ensure_min_features, warn_on_dtype, estimator)\u001b[0m\n\u001b[1;32m    529\u001b[0m                     \u001b[0marray\u001b[0m \u001b[0;34m=\u001b[0m \u001b[0marray\u001b[0m\u001b[0;34m.\u001b[0m\u001b[0mastype\u001b[0m\u001b[0;34m(\u001b[0m\u001b[0mdtype\u001b[0m\u001b[0;34m,\u001b[0m \u001b[0mcasting\u001b[0m\u001b[0;34m=\u001b[0m\u001b[0;34m\"unsafe\"\u001b[0m\u001b[0;34m,\u001b[0m \u001b[0mcopy\u001b[0m\u001b[0;34m=\u001b[0m\u001b[0;32mFalse\u001b[0m\u001b[0;34m)\u001b[0m\u001b[0;34m\u001b[0m\u001b[0;34m\u001b[0m\u001b[0m\n\u001b[1;32m    530\u001b[0m                 \u001b[0;32melse\u001b[0m\u001b[0;34m:\u001b[0m\u001b[0;34m\u001b[0m\u001b[0;34m\u001b[0m\u001b[0m\n\u001b[0;32m--> 531\u001b[0;31m                     \u001b[0marray\u001b[0m \u001b[0;34m=\u001b[0m \u001b[0mnp\u001b[0m\u001b[0;34m.\u001b[0m\u001b[0masarray\u001b[0m\u001b[0;34m(\u001b[0m\u001b[0marray\u001b[0m\u001b[0;34m,\u001b[0m \u001b[0morder\u001b[0m\u001b[0;34m=\u001b[0m\u001b[0morder\u001b[0m\u001b[0;34m,\u001b[0m \u001b[0mdtype\u001b[0m\u001b[0;34m=\u001b[0m\u001b[0mdtype\u001b[0m\u001b[0;34m)\u001b[0m\u001b[0;34m\u001b[0m\u001b[0;34m\u001b[0m\u001b[0m\n\u001b[0m\u001b[1;32m    532\u001b[0m             \u001b[0;32mexcept\u001b[0m \u001b[0mComplexWarning\u001b[0m\u001b[0;34m:\u001b[0m\u001b[0;34m\u001b[0m\u001b[0;34m\u001b[0m\u001b[0m\n\u001b[1;32m    533\u001b[0m                 raise ValueError(\"Complex data not supported\\n\"\n",
      "\u001b[0;32m~/patient_clustering/patient/lib/python3.7/site-packages/numpy/core/_asarray.py\u001b[0m in \u001b[0;36masarray\u001b[0;34m(a, dtype, order)\u001b[0m\n\u001b[1;32m     83\u001b[0m \u001b[0;34m\u001b[0m\u001b[0m\n\u001b[1;32m     84\u001b[0m     \"\"\"\n\u001b[0;32m---> 85\u001b[0;31m     \u001b[0;32mreturn\u001b[0m \u001b[0marray\u001b[0m\u001b[0;34m(\u001b[0m\u001b[0ma\u001b[0m\u001b[0;34m,\u001b[0m \u001b[0mdtype\u001b[0m\u001b[0;34m,\u001b[0m \u001b[0mcopy\u001b[0m\u001b[0;34m=\u001b[0m\u001b[0;32mFalse\u001b[0m\u001b[0;34m,\u001b[0m \u001b[0morder\u001b[0m\u001b[0;34m=\u001b[0m\u001b[0morder\u001b[0m\u001b[0;34m)\u001b[0m\u001b[0;34m\u001b[0m\u001b[0;34m\u001b[0m\u001b[0m\n\u001b[0m\u001b[1;32m     86\u001b[0m \u001b[0;34m\u001b[0m\u001b[0m\n\u001b[1;32m     87\u001b[0m \u001b[0;34m\u001b[0m\u001b[0m\n",
      "\u001b[0;31mValueError\u001b[0m: setting an array element with a sequence."
     ]
    }
   ],
   "source": [
    "svclassifier.fit(x_train, y_train)"
   ]
  },
  {
   "cell_type": "code",
   "execution_count": 119,
   "metadata": {},
   "outputs": [
    {
     "data": {
      "text/plain": [
       "array([[14.0, 126.0, 74.0, ..., 37.3,\n",
       "        <21611x255 sparse matrix of type '<class 'numpy.float64'>'\n",
       "\twith 67732 stored elements in Compressed Sparse Row format>,\n",
       "        <21611x160 sparse matrix of type '<class 'numpy.float64'>'\n",
       "\twith 42227 stored elements in Compressed Sparse Row format>],\n",
       "       [64.0, 129.0, 78.0, ..., 36.5,\n",
       "        <21611x255 sparse matrix of type '<class 'numpy.float64'>'\n",
       "\twith 67732 stored elements in Compressed Sparse Row format>,\n",
       "        <21611x160 sparse matrix of type '<class 'numpy.float64'>'\n",
       "\twith 42227 stored elements in Compressed Sparse Row format>],\n",
       "       [25.0, 112.0, 80.0, ..., 36.8,\n",
       "        <21611x255 sparse matrix of type '<class 'numpy.float64'>'\n",
       "\twith 67732 stored elements in Compressed Sparse Row format>,\n",
       "        <21611x160 sparse matrix of type '<class 'numpy.float64'>'\n",
       "\twith 42227 stored elements in Compressed Sparse Row format>],\n",
       "       ...,\n",
       "       [59.0, 120.0, 70.0, ..., 36.5,\n",
       "        <21611x255 sparse matrix of type '<class 'numpy.float64'>'\n",
       "\twith 67732 stored elements in Compressed Sparse Row format>,\n",
       "        <21611x160 sparse matrix of type '<class 'numpy.float64'>'\n",
       "\twith 42227 stored elements in Compressed Sparse Row format>],\n",
       "       [1.0, 0.0, 0.0, ..., 39.4,\n",
       "        <21611x255 sparse matrix of type '<class 'numpy.float64'>'\n",
       "\twith 67732 stored elements in Compressed Sparse Row format>,\n",
       "        <21611x160 sparse matrix of type '<class 'numpy.float64'>'\n",
       "\twith 42227 stored elements in Compressed Sparse Row format>],\n",
       "       [56.0, 101.0, 60.0, ..., 36.6,\n",
       "        <21611x255 sparse matrix of type '<class 'numpy.float64'>'\n",
       "\twith 67732 stored elements in Compressed Sparse Row format>,\n",
       "        <21611x160 sparse matrix of type '<class 'numpy.float64'>'\n",
       "\twith 42227 stored elements in Compressed Sparse Row format>]],\n",
       "      dtype=object)"
      ]
     },
     "execution_count": 119,
     "metadata": {},
     "output_type": "execute_result"
    }
   ],
   "source": [
    "x_train.values"
   ]
  },
  {
   "cell_type": "code",
   "execution_count": 170,
   "metadata": {},
   "outputs": [],
   "source": [
    "from sklearn_pandas import DataFrameMapper"
   ]
  },
  {
   "cell_type": "code",
   "execution_count": 177,
   "metadata": {},
   "outputs": [
    {
     "ename": "TypeError",
     "evalue": "_build_feature() takes from 2 to 3 positional arguments but 5 were given",
     "output_type": "error",
     "traceback": [
      "\u001b[0;31m---------------------------------------------------------------------------\u001b[0m",
      "\u001b[0;31mTypeError\u001b[0m                                 Traceback (most recent call last)",
      "\u001b[0;32m<ipython-input-177-b2e760a0ccdf>\u001b[0m in \u001b[0;36m<module>\u001b[0;34m\u001b[0m\n\u001b[0;32m----> 1\u001b[0;31m \u001b[0mx_train_new\u001b[0m \u001b[0;34m=\u001b[0m \u001b[0mmapper\u001b[0m\u001b[0;34m.\u001b[0m\u001b[0mfit_transform\u001b[0m\u001b[0;34m(\u001b[0m\u001b[0mx_train\u001b[0m\u001b[0;34m)\u001b[0m\u001b[0;34m\u001b[0m\u001b[0;34m\u001b[0m\u001b[0m\n\u001b[0m",
      "\u001b[0;32m~/patient_clustering/patient/lib/python3.7/site-packages/sklearn_pandas/dataframe_mapper.py\u001b[0m in \u001b[0;36mfit_transform\u001b[0;34m(self, X, y)\u001b[0m\n\u001b[1;32m    386\u001b[0m         \u001b[0my\u001b[0m       \u001b[0mthe\u001b[0m \u001b[0mtarget\u001b[0m \u001b[0mvector\u001b[0m \u001b[0mrelative\u001b[0m \u001b[0mto\u001b[0m \u001b[0mX\u001b[0m\u001b[0;34m,\u001b[0m \u001b[0moptional\u001b[0m\u001b[0;34m\u001b[0m\u001b[0;34m\u001b[0m\u001b[0m\n\u001b[1;32m    387\u001b[0m         \"\"\"\n\u001b[0;32m--> 388\u001b[0;31m         \u001b[0;32mreturn\u001b[0m \u001b[0mself\u001b[0m\u001b[0;34m.\u001b[0m\u001b[0m_transform\u001b[0m\u001b[0;34m(\u001b[0m\u001b[0mX\u001b[0m\u001b[0;34m,\u001b[0m \u001b[0my\u001b[0m\u001b[0;34m,\u001b[0m \u001b[0;32mTrue\u001b[0m\u001b[0;34m)\u001b[0m\u001b[0;34m\u001b[0m\u001b[0;34m\u001b[0m\u001b[0m\n\u001b[0m",
      "\u001b[0;32m~/patient_clustering/patient/lib/python3.7/site-packages/sklearn_pandas/dataframe_mapper.py\u001b[0m in \u001b[0;36m_transform\u001b[0;34m(self, X, y, do_fit)\u001b[0m\n\u001b[1;32m    286\u001b[0m         \"\"\"\n\u001b[1;32m    287\u001b[0m         \u001b[0;32mif\u001b[0m \u001b[0mdo_fit\u001b[0m\u001b[0;34m:\u001b[0m\u001b[0;34m\u001b[0m\u001b[0;34m\u001b[0m\u001b[0m\n\u001b[0;32m--> 288\u001b[0;31m             \u001b[0mself\u001b[0m\u001b[0;34m.\u001b[0m\u001b[0m_build\u001b[0m\u001b[0;34m(\u001b[0m\u001b[0;34m)\u001b[0m\u001b[0;34m\u001b[0m\u001b[0;34m\u001b[0m\u001b[0m\n\u001b[0m\u001b[1;32m    289\u001b[0m \u001b[0;34m\u001b[0m\u001b[0m\n\u001b[1;32m    290\u001b[0m         \u001b[0mextracted\u001b[0m \u001b[0;34m=\u001b[0m \u001b[0;34m[\u001b[0m\u001b[0;34m]\u001b[0m\u001b[0;34m\u001b[0m\u001b[0;34m\u001b[0m\u001b[0m\n",
      "\u001b[0;32m~/patient_clustering/patient/lib/python3.7/site-packages/sklearn_pandas/dataframe_mapper.py\u001b[0m in \u001b[0;36m_build\u001b[0;34m(self)\u001b[0m\n\u001b[1;32m    120\u001b[0m         \"\"\"\n\u001b[1;32m    121\u001b[0m         \u001b[0;32mif\u001b[0m \u001b[0misinstance\u001b[0m\u001b[0;34m(\u001b[0m\u001b[0mself\u001b[0m\u001b[0;34m.\u001b[0m\u001b[0mfeatures\u001b[0m\u001b[0;34m,\u001b[0m \u001b[0mlist\u001b[0m\u001b[0;34m)\u001b[0m\u001b[0;34m:\u001b[0m\u001b[0;34m\u001b[0m\u001b[0;34m\u001b[0m\u001b[0m\n\u001b[0;32m--> 122\u001b[0;31m             \u001b[0mself\u001b[0m\u001b[0;34m.\u001b[0m\u001b[0mbuilt_features\u001b[0m \u001b[0;34m=\u001b[0m \u001b[0;34m[\u001b[0m\u001b[0m_build_feature\u001b[0m\u001b[0;34m(\u001b[0m\u001b[0;34m*\u001b[0m\u001b[0mf\u001b[0m\u001b[0;34m)\u001b[0m \u001b[0;32mfor\u001b[0m \u001b[0mf\u001b[0m \u001b[0;32min\u001b[0m \u001b[0mself\u001b[0m\u001b[0;34m.\u001b[0m\u001b[0mfeatures\u001b[0m\u001b[0;34m]\u001b[0m\u001b[0;34m\u001b[0m\u001b[0;34m\u001b[0m\u001b[0m\n\u001b[0m\u001b[1;32m    123\u001b[0m         \u001b[0;32melse\u001b[0m\u001b[0;34m:\u001b[0m\u001b[0;34m\u001b[0m\u001b[0;34m\u001b[0m\u001b[0m\n\u001b[1;32m    124\u001b[0m             \u001b[0mself\u001b[0m\u001b[0;34m.\u001b[0m\u001b[0mbuilt_features\u001b[0m \u001b[0;34m=\u001b[0m \u001b[0mself\u001b[0m\u001b[0;34m.\u001b[0m\u001b[0mfeatures\u001b[0m\u001b[0;34m\u001b[0m\u001b[0;34m\u001b[0m\u001b[0m\n",
      "\u001b[0;32m~/patient_clustering/patient/lib/python3.7/site-packages/sklearn_pandas/dataframe_mapper.py\u001b[0m in \u001b[0;36m<listcomp>\u001b[0;34m(.0)\u001b[0m\n\u001b[1;32m    120\u001b[0m         \"\"\"\n\u001b[1;32m    121\u001b[0m         \u001b[0;32mif\u001b[0m \u001b[0misinstance\u001b[0m\u001b[0;34m(\u001b[0m\u001b[0mself\u001b[0m\u001b[0;34m.\u001b[0m\u001b[0mfeatures\u001b[0m\u001b[0;34m,\u001b[0m \u001b[0mlist\u001b[0m\u001b[0;34m)\u001b[0m\u001b[0;34m:\u001b[0m\u001b[0;34m\u001b[0m\u001b[0;34m\u001b[0m\u001b[0m\n\u001b[0;32m--> 122\u001b[0;31m             \u001b[0mself\u001b[0m\u001b[0;34m.\u001b[0m\u001b[0mbuilt_features\u001b[0m \u001b[0;34m=\u001b[0m \u001b[0;34m[\u001b[0m\u001b[0m_build_feature\u001b[0m\u001b[0;34m(\u001b[0m\u001b[0;34m*\u001b[0m\u001b[0mf\u001b[0m\u001b[0;34m)\u001b[0m \u001b[0;32mfor\u001b[0m \u001b[0mf\u001b[0m \u001b[0;32min\u001b[0m \u001b[0mself\u001b[0m\u001b[0;34m.\u001b[0m\u001b[0mfeatures\u001b[0m\u001b[0;34m]\u001b[0m\u001b[0;34m\u001b[0m\u001b[0;34m\u001b[0m\u001b[0m\n\u001b[0m\u001b[1;32m    123\u001b[0m         \u001b[0;32melse\u001b[0m\u001b[0;34m:\u001b[0m\u001b[0;34m\u001b[0m\u001b[0;34m\u001b[0m\u001b[0m\n\u001b[1;32m    124\u001b[0m             \u001b[0mself\u001b[0m\u001b[0;34m.\u001b[0m\u001b[0mbuilt_features\u001b[0m \u001b[0;34m=\u001b[0m \u001b[0mself\u001b[0m\u001b[0;34m.\u001b[0m\u001b[0mfeatures\u001b[0m\u001b[0;34m\u001b[0m\u001b[0;34m\u001b[0m\u001b[0m\n",
      "\u001b[0;31mTypeError\u001b[0m: _build_feature() takes from 2 to 3 positional arguments but 5 were given"
     ]
    }
   ],
   "source": [
    "x_train_new = mapper.fit_transform(x_train)"
   ]
  },
  {
   "cell_type": "code",
   "execution_count": 176,
   "metadata": {},
   "outputs": [],
   "source": [
    "mapper = DataFrameMapper(['age_y', 'bps', 'bpd', 'pulse', 'bw', 'height', 'temperature', 'symptoms_num', 'xray_num'], None)"
   ]
  },
  {
   "cell_type": "code",
   "execution_count": null,
   "metadata": {},
   "outputs": [],
   "source": []
  }
 ],
 "metadata": {
  "kernelspec": {
   "display_name": "Python 3",
   "language": "python",
   "name": "python3"
  },
  "language_info": {
   "codemirror_mode": {
    "name": "ipython",
    "version": 3
   },
   "file_extension": ".py",
   "mimetype": "text/x-python",
   "name": "python",
   "nbconvert_exporter": "python",
   "pygments_lexer": "ipython3",
   "version": "3.7.4"
  }
 },
 "nbformat": 4,
 "nbformat_minor": 4
}
