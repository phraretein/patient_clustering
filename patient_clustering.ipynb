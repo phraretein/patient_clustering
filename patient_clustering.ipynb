{
 "cells": [
  {
   "cell_type": "code",
   "execution_count": 1,
   "metadata": {},
   "outputs": [],
   "source": [
    "import pandas as pd\n",
    "import numpy as np\n",
    "from mlxtend.preprocessing import TransactionEncoder\n",
    "import matplotlib.pyplot as plt\n",
    "import seaborn as sns\n",
    "from scipy import stats"
   ]
  },
  {
   "cell_type": "code",
   "execution_count": 2,
   "metadata": {},
   "outputs": [],
   "source": [
    "df_cc = pd.read_excel('cc61_df3_vn.xlsx')\n",
    "df_xray = pd.read_excel('Xray (2017-2018).xlsx')"
   ]
  },
  {
   "cell_type": "code",
   "execution_count": 3,
   "metadata": {},
   "outputs": [
    {
     "data": {
      "text/html": [
       "<div>\n",
       "<style scoped>\n",
       "    .dataframe tbody tr th:only-of-type {\n",
       "        vertical-align: middle;\n",
       "    }\n",
       "\n",
       "    .dataframe tbody tr th {\n",
       "        vertical-align: top;\n",
       "    }\n",
       "\n",
       "    .dataframe thead th {\n",
       "        text-align: right;\n",
       "    }\n",
       "</style>\n",
       "<table border=\"1\" class=\"dataframe\">\n",
       "  <thead>\n",
       "    <tr style=\"text-align: right;\">\n",
       "      <th></th>\n",
       "      <th>vn</th>\n",
       "      <th>vstdate</th>\n",
       "      <th>vsttime</th>\n",
       "      <th>sex</th>\n",
       "      <th>age_y</th>\n",
       "      <th>cc</th>\n",
       "      <th>bps</th>\n",
       "      <th>bpd</th>\n",
       "      <th>pulse</th>\n",
       "      <th>bw</th>\n",
       "      <th>height</th>\n",
       "      <th>temperature</th>\n",
       "      <th>department</th>\n",
       "      <th>PDX (1)</th>\n",
       "      <th>Comorbidity (2)</th>\n",
       "      <th>Complication (3)</th>\n",
       "      <th>Other (4)</th>\n",
       "      <th>External Cause (5)</th>\n",
       "      <th>clean_symtom(noun)</th>\n",
       "      <th>clean_symptom2(synonym)</th>\n",
       "    </tr>\n",
       "  </thead>\n",
       "  <tbody>\n",
       "    <tr>\n",
       "      <th>0</th>\n",
       "      <td>610611111904</td>\n",
       "      <td>2018-06-11</td>\n",
       "      <td>11:19:04</td>\n",
       "      <td>หญิง</td>\n",
       "      <td>23.0</td>\n",
       "      <td>P - LAST  -  LMP  23/03/02561*   4 วัน ตั้งครร...</td>\n",
       "      <td>86.0</td>\n",
       "      <td>59.0</td>\n",
       "      <td>85.0</td>\n",
       "      <td>49.4</td>\n",
       "      <td>160.0</td>\n",
       "      <td>36.5</td>\n",
       "      <td>จุดซักประวัติห้องตรวจโรคนรีเวช</td>\n",
       "      <td>O020</td>\n",
       "      <td>NaN</td>\n",
       "      <td>NaN</td>\n",
       "      <td>NaN</td>\n",
       "      <td>NaN</td>\n",
       "      <td>ใช้สารเสพติด ตั้งครรภ์</td>\n",
       "      <td>ตั้งครรภ์/ยาเสพติด</td>\n",
       "    </tr>\n",
       "    <tr>\n",
       "      <th>1</th>\n",
       "      <td>610508143131</td>\n",
       "      <td>2018-05-08</td>\n",
       "      <td>14:31:31</td>\n",
       "      <td>หญิง</td>\n",
       "      <td>22.0</td>\n",
       "      <td>G1P  0 LAST-  ปี  LMP -   คุมกำเนิด  -   วันนี...</td>\n",
       "      <td>123.0</td>\n",
       "      <td>72.0</td>\n",
       "      <td>130.0</td>\n",
       "      <td>61.1</td>\n",
       "      <td>165.0</td>\n",
       "      <td>36.5</td>\n",
       "      <td>จุดซักประวัติห้องตรวจโรคนรีเวช</td>\n",
       "      <td>A630</td>\n",
       "      <td>NaN</td>\n",
       "      <td>NaN</td>\n",
       "      <td>Z133</td>\n",
       "      <td>NaN</td>\n",
       "      <td>ฝากครรภ์ คุมกำเนิด ตั้งครรภ์</td>\n",
       "      <td>ฝากครรภ์/ตั้งครรภ์/กำเนิด</td>\n",
       "    </tr>\n",
       "    <tr>\n",
       "      <th>2</th>\n",
       "      <td>601101191449</td>\n",
       "      <td>2017-11-01</td>\n",
       "      <td>19:14:49</td>\n",
       "      <td>หญิง</td>\n",
       "      <td>51.0</td>\n",
       "      <td>รับจาก  ER  เวลา  19.32 น  มีไข้  ไอมีเสมหะ  ป...</td>\n",
       "      <td>175.0</td>\n",
       "      <td>99.0</td>\n",
       "      <td>114.0</td>\n",
       "      <td>0.0</td>\n",
       "      <td>156.0</td>\n",
       "      <td>38.5</td>\n",
       "      <td>คลินิกนอกเวลา1</td>\n",
       "      <td>J110</td>\n",
       "      <td>NaN</td>\n",
       "      <td>NaN</td>\n",
       "      <td>NaN</td>\n",
       "      <td>NaN</td>\n",
       "      <td>ปวดศีรษะ ชา ไข้ ไอ เสมหะ</td>\n",
       "      <td>ไข้/ไอ/ปวดศีรษะ/ชา/ปวด/เสมหะ</td>\n",
       "    </tr>\n",
       "    <tr>\n",
       "      <th>3</th>\n",
       "      <td>610926001048</td>\n",
       "      <td>2018-09-26</td>\n",
       "      <td>00:10:48</td>\n",
       "      <td>หญิง</td>\n",
       "      <td>52.0</td>\n",
       "      <td>ผู้ป่วยแจ้งว่า มีอาการปวดท้อง แน่นใต้ลิ้นปี่ เ...</td>\n",
       "      <td>170.0</td>\n",
       "      <td>110.0</td>\n",
       "      <td>64.0</td>\n",
       "      <td>86.0</td>\n",
       "      <td>154.0</td>\n",
       "      <td>36.6</td>\n",
       "      <td>ห้องEmergency Room (ER)</td>\n",
       "      <td>K30</td>\n",
       "      <td>NaN</td>\n",
       "      <td>NaN</td>\n",
       "      <td>NaN</td>\n",
       "      <td>NaN</td>\n",
       "      <td>แน่นใต้ลิ้นปี่ ปวดท้อง</td>\n",
       "      <td>ปวด/แน่น/ปวดท้อง/แน่นใต้ลิ้นปี่</td>\n",
       "    </tr>\n",
       "    <tr>\n",
       "      <th>6</th>\n",
       "      <td>610326142345</td>\n",
       "      <td>2018-03-26</td>\n",
       "      <td>14:23:45</td>\n",
       "      <td>หญิง</td>\n",
       "      <td>51.0</td>\n",
       "      <td>ปวดขาพับข้างซ้ายร้าวลงขาซ้ายเป็นมา 1 อาทิตย์</td>\n",
       "      <td>153.0</td>\n",
       "      <td>92.0</td>\n",
       "      <td>67.0</td>\n",
       "      <td>86.0</td>\n",
       "      <td>154.0</td>\n",
       "      <td>36.5</td>\n",
       "      <td>จุดซักประวัติห้องตรวจโรคกระดูก</td>\n",
       "      <td>M6596</td>\n",
       "      <td>NaN</td>\n",
       "      <td>NaN</td>\n",
       "      <td>NaN</td>\n",
       "      <td>NaN</td>\n",
       "      <td>ร้าว ปวดขา</td>\n",
       "      <td>ปวด/ปวดร้าว/ปวดขา</td>\n",
       "    </tr>\n",
       "  </tbody>\n",
       "</table>\n",
       "</div>"
      ],
      "text/plain": [
       "             vn    vstdate   vsttime   sex  age_y  \\\n",
       "0  610611111904 2018-06-11  11:19:04  หญิง   23.0   \n",
       "1  610508143131 2018-05-08  14:31:31  หญิง   22.0   \n",
       "2  601101191449 2017-11-01  19:14:49  หญิง   51.0   \n",
       "3  610926001048 2018-09-26  00:10:48  หญิง   52.0   \n",
       "6  610326142345 2018-03-26  14:23:45  หญิง   51.0   \n",
       "\n",
       "                                                  cc    bps    bpd  pulse  \\\n",
       "0  P - LAST  -  LMP  23/03/02561*   4 วัน ตั้งครร...   86.0   59.0   85.0   \n",
       "1  G1P  0 LAST-  ปี  LMP -   คุมกำเนิด  -   วันนี...  123.0   72.0  130.0   \n",
       "2  รับจาก  ER  เวลา  19.32 น  มีไข้  ไอมีเสมหะ  ป...  175.0   99.0  114.0   \n",
       "3  ผู้ป่วยแจ้งว่า มีอาการปวดท้อง แน่นใต้ลิ้นปี่ เ...  170.0  110.0   64.0   \n",
       "6       ปวดขาพับข้างซ้ายร้าวลงขาซ้ายเป็นมา 1 อาทิตย์  153.0   92.0   67.0   \n",
       "\n",
       "     bw  height  temperature                      department PDX (1)  \\\n",
       "0  49.4   160.0         36.5  จุดซักประวัติห้องตรวจโรคนรีเวช    O020   \n",
       "1  61.1   165.0         36.5  จุดซักประวัติห้องตรวจโรคนรีเวช    A630   \n",
       "2   0.0   156.0         38.5                  คลินิกนอกเวลา1    J110   \n",
       "3  86.0   154.0         36.6         ห้องEmergency Room (ER)     K30   \n",
       "6  86.0   154.0         36.5  จุดซักประวัติห้องตรวจโรคกระดูก   M6596   \n",
       "\n",
       "  Comorbidity (2) Complication (3) Other (4) External Cause (5)  \\\n",
       "0             NaN              NaN       NaN                NaN   \n",
       "1             NaN              NaN      Z133                NaN   \n",
       "2             NaN              NaN       NaN                NaN   \n",
       "3             NaN              NaN       NaN                NaN   \n",
       "6             NaN              NaN       NaN                NaN   \n",
       "\n",
       "             clean_symtom(noun)          clean_symptom2(synonym)  \n",
       "0        ใช้สารเสพติด ตั้งครรภ์               ตั้งครรภ์/ยาเสพติด  \n",
       "1  ฝากครรภ์ คุมกำเนิด ตั้งครรภ์        ฝากครรภ์/ตั้งครรภ์/กำเนิด  \n",
       "2      ปวดศีรษะ ชา ไข้ ไอ เสมหะ     ไข้/ไอ/ปวดศีรษะ/ชา/ปวด/เสมหะ  \n",
       "3        แน่นใต้ลิ้นปี่ ปวดท้อง  ปวด/แน่น/ปวดท้อง/แน่นใต้ลิ้นปี่  \n",
       "6                    ร้าว ปวดขา                ปวด/ปวดร้าว/ปวดขา  "
      ]
     },
     "execution_count": 3,
     "metadata": {},
     "output_type": "execute_result"
    }
   ],
   "source": [
    "# dropping null value columns to avoid errors\n",
    "df_cc.dropna(subset=['clean_symptom2(synonym)', 'bps', 'bpd', 'pulse', 'bw', 'height'],inplace = True)\n",
    "df_cc.head()"
   ]
  },
  {
   "cell_type": "code",
   "execution_count": 4,
   "metadata": {},
   "outputs": [
    {
     "data": {
      "text/html": [
       "<div>\n",
       "<style scoped>\n",
       "    .dataframe tbody tr th:only-of-type {\n",
       "        vertical-align: middle;\n",
       "    }\n",
       "\n",
       "    .dataframe tbody tr th {\n",
       "        vertical-align: top;\n",
       "    }\n",
       "\n",
       "    .dataframe thead th {\n",
       "        text-align: right;\n",
       "    }\n",
       "</style>\n",
       "<table border=\"1\" class=\"dataframe\">\n",
       "  <thead>\n",
       "    <tr style=\"text-align: right;\">\n",
       "      <th></th>\n",
       "      <th>vn</th>\n",
       "      <th>vstdate</th>\n",
       "      <th>vsttime</th>\n",
       "      <th>xray_items_code</th>\n",
       "      <th>xray_list</th>\n",
       "      <th>xray_items</th>\n",
       "    </tr>\n",
       "  </thead>\n",
       "  <tbody>\n",
       "    <tr>\n",
       "      <th>0</th>\n",
       "      <td>601001011504</td>\n",
       "      <td>2017-10-01</td>\n",
       "      <td>01:15:04</td>\n",
       "      <td>12.0</td>\n",
       "      <td>Chest Ap</td>\n",
       "      <td>[Chest Ap]</td>\n",
       "    </tr>\n",
       "    <tr>\n",
       "      <th>1</th>\n",
       "      <td>601001011504</td>\n",
       "      <td>2017-10-01</td>\n",
       "      <td>01:15:04</td>\n",
       "      <td>66.0</td>\n",
       "      <td>Chest Ap</td>\n",
       "      <td>[Chest Ap]</td>\n",
       "    </tr>\n",
       "    <tr>\n",
       "      <th>2</th>\n",
       "      <td>601001011504</td>\n",
       "      <td>2017-10-01</td>\n",
       "      <td>01:15:04</td>\n",
       "      <td>66.0</td>\n",
       "      <td>Chest Ap</td>\n",
       "      <td>[Chest Ap]</td>\n",
       "    </tr>\n",
       "    <tr>\n",
       "      <th>3</th>\n",
       "      <td>601001012739</td>\n",
       "      <td>2017-10-01</td>\n",
       "      <td>01:27:39</td>\n",
       "      <td>1.0</td>\n",
       "      <td>Skull AP,lat,Ankle Lt AP,lat,Ankle Mortise Lt</td>\n",
       "      <td>[Skull AP, lat, Ankle Lt AP, lat, Ankle Mortis...</td>\n",
       "    </tr>\n",
       "    <tr>\n",
       "      <th>4</th>\n",
       "      <td>601001012739</td>\n",
       "      <td>2017-10-01</td>\n",
       "      <td>01:27:39</td>\n",
       "      <td>59.0</td>\n",
       "      <td>Skull AP,lat,Ankle Lt AP,lat,Ankle Mortise Lt</td>\n",
       "      <td>[Skull AP, lat, Ankle Lt AP, lat, Ankle Mortis...</td>\n",
       "    </tr>\n",
       "  </tbody>\n",
       "</table>\n",
       "</div>"
      ],
      "text/plain": [
       "             vn    vstdate   vsttime  xray_items_code  \\\n",
       "0  601001011504 2017-10-01  01:15:04             12.0   \n",
       "1  601001011504 2017-10-01  01:15:04             66.0   \n",
       "2  601001011504 2017-10-01  01:15:04             66.0   \n",
       "3  601001012739 2017-10-01  01:27:39              1.0   \n",
       "4  601001012739 2017-10-01  01:27:39             59.0   \n",
       "\n",
       "                                       xray_list  \\\n",
       "0                                       Chest Ap   \n",
       "1                                       Chest Ap   \n",
       "2                                       Chest Ap   \n",
       "3  Skull AP,lat,Ankle Lt AP,lat,Ankle Mortise Lt   \n",
       "4  Skull AP,lat,Ankle Lt AP,lat,Ankle Mortise Lt   \n",
       "\n",
       "                                          xray_items  \n",
       "0                                         [Chest Ap]  \n",
       "1                                         [Chest Ap]  \n",
       "2                                         [Chest Ap]  \n",
       "3  [Skull AP, lat, Ankle Lt AP, lat, Ankle Mortis...  \n",
       "4  [Skull AP, lat, Ankle Lt AP, lat, Ankle Mortis...  "
      ]
     },
     "execution_count": 4,
     "metadata": {},
     "output_type": "execute_result"
    }
   ],
   "source": [
    "df_xray['xray_items'] = df_xray['xray_list'].str.split(\",\", n= -1)\n",
    "df_xray.head()"
   ]
  },
  {
   "cell_type": "code",
   "execution_count": 5,
   "metadata": {},
   "outputs": [
    {
     "data": {
      "text/html": [
       "<div>\n",
       "<style scoped>\n",
       "    .dataframe tbody tr th:only-of-type {\n",
       "        vertical-align: middle;\n",
       "    }\n",
       "\n",
       "    .dataframe tbody tr th {\n",
       "        vertical-align: top;\n",
       "    }\n",
       "\n",
       "    .dataframe thead th {\n",
       "        text-align: right;\n",
       "    }\n",
       "</style>\n",
       "<table border=\"1\" class=\"dataframe\">\n",
       "  <thead>\n",
       "    <tr style=\"text-align: right;\">\n",
       "      <th></th>\n",
       "      <th>vn</th>\n",
       "      <th>vstdate</th>\n",
       "      <th>vsttime</th>\n",
       "      <th>sex</th>\n",
       "      <th>age_y</th>\n",
       "      <th>cc</th>\n",
       "      <th>bps</th>\n",
       "      <th>bpd</th>\n",
       "      <th>pulse</th>\n",
       "      <th>bw</th>\n",
       "      <th>...</th>\n",
       "      <th>temperature</th>\n",
       "      <th>department</th>\n",
       "      <th>PDX (1)</th>\n",
       "      <th>Comorbidity (2)</th>\n",
       "      <th>Complication (3)</th>\n",
       "      <th>Other (4)</th>\n",
       "      <th>External Cause (5)</th>\n",
       "      <th>clean_symtom(noun)</th>\n",
       "      <th>clean_symptom2(synonym)</th>\n",
       "      <th>symptoms</th>\n",
       "    </tr>\n",
       "  </thead>\n",
       "  <tbody>\n",
       "    <tr>\n",
       "      <th>0</th>\n",
       "      <td>610611111904</td>\n",
       "      <td>2018-06-11</td>\n",
       "      <td>11:19:04</td>\n",
       "      <td>หญิง</td>\n",
       "      <td>23.0</td>\n",
       "      <td>P - LAST  -  LMP  23/03/02561*   4 วัน ตั้งครร...</td>\n",
       "      <td>86.0</td>\n",
       "      <td>59.0</td>\n",
       "      <td>85.0</td>\n",
       "      <td>49.4</td>\n",
       "      <td>...</td>\n",
       "      <td>36.5</td>\n",
       "      <td>จุดซักประวัติห้องตรวจโรคนรีเวช</td>\n",
       "      <td>O020</td>\n",
       "      <td>NaN</td>\n",
       "      <td>NaN</td>\n",
       "      <td>NaN</td>\n",
       "      <td>NaN</td>\n",
       "      <td>ใช้สารเสพติด ตั้งครรภ์</td>\n",
       "      <td>ตั้งครรภ์/ยาเสพติด</td>\n",
       "      <td>[ตั้งครรภ์, ยาเสพติด]</td>\n",
       "    </tr>\n",
       "    <tr>\n",
       "      <th>1</th>\n",
       "      <td>610508143131</td>\n",
       "      <td>2018-05-08</td>\n",
       "      <td>14:31:31</td>\n",
       "      <td>หญิง</td>\n",
       "      <td>22.0</td>\n",
       "      <td>G1P  0 LAST-  ปี  LMP -   คุมกำเนิด  -   วันนี...</td>\n",
       "      <td>123.0</td>\n",
       "      <td>72.0</td>\n",
       "      <td>130.0</td>\n",
       "      <td>61.1</td>\n",
       "      <td>...</td>\n",
       "      <td>36.5</td>\n",
       "      <td>จุดซักประวัติห้องตรวจโรคนรีเวช</td>\n",
       "      <td>A630</td>\n",
       "      <td>NaN</td>\n",
       "      <td>NaN</td>\n",
       "      <td>Z133</td>\n",
       "      <td>NaN</td>\n",
       "      <td>ฝากครรภ์ คุมกำเนิด ตั้งครรภ์</td>\n",
       "      <td>ฝากครรภ์/ตั้งครรภ์/กำเนิด</td>\n",
       "      <td>[ฝากครรภ์, ตั้งครรภ์, กำเนิด]</td>\n",
       "    </tr>\n",
       "    <tr>\n",
       "      <th>2</th>\n",
       "      <td>601101191449</td>\n",
       "      <td>2017-11-01</td>\n",
       "      <td>19:14:49</td>\n",
       "      <td>หญิง</td>\n",
       "      <td>51.0</td>\n",
       "      <td>รับจาก  ER  เวลา  19.32 น  มีไข้  ไอมีเสมหะ  ป...</td>\n",
       "      <td>175.0</td>\n",
       "      <td>99.0</td>\n",
       "      <td>114.0</td>\n",
       "      <td>0.0</td>\n",
       "      <td>...</td>\n",
       "      <td>38.5</td>\n",
       "      <td>คลินิกนอกเวลา1</td>\n",
       "      <td>J110</td>\n",
       "      <td>NaN</td>\n",
       "      <td>NaN</td>\n",
       "      <td>NaN</td>\n",
       "      <td>NaN</td>\n",
       "      <td>ปวดศีรษะ ชา ไข้ ไอ เสมหะ</td>\n",
       "      <td>ไข้/ไอ/ปวดศีรษะ/ชา/ปวด/เสมหะ</td>\n",
       "      <td>[ไข้, ไอ, ปวดศีรษะ, ชา, ปวด, เสมหะ]</td>\n",
       "    </tr>\n",
       "    <tr>\n",
       "      <th>3</th>\n",
       "      <td>610926001048</td>\n",
       "      <td>2018-09-26</td>\n",
       "      <td>00:10:48</td>\n",
       "      <td>หญิง</td>\n",
       "      <td>52.0</td>\n",
       "      <td>ผู้ป่วยแจ้งว่า มีอาการปวดท้อง แน่นใต้ลิ้นปี่ เ...</td>\n",
       "      <td>170.0</td>\n",
       "      <td>110.0</td>\n",
       "      <td>64.0</td>\n",
       "      <td>86.0</td>\n",
       "      <td>...</td>\n",
       "      <td>36.6</td>\n",
       "      <td>ห้องEmergency Room (ER)</td>\n",
       "      <td>K30</td>\n",
       "      <td>NaN</td>\n",
       "      <td>NaN</td>\n",
       "      <td>NaN</td>\n",
       "      <td>NaN</td>\n",
       "      <td>แน่นใต้ลิ้นปี่ ปวดท้อง</td>\n",
       "      <td>ปวด/แน่น/ปวดท้อง/แน่นใต้ลิ้นปี่</td>\n",
       "      <td>[ปวด, แน่น, ปวดท้อง, แน่นใต้ลิ้นปี่]</td>\n",
       "    </tr>\n",
       "    <tr>\n",
       "      <th>6</th>\n",
       "      <td>610326142345</td>\n",
       "      <td>2018-03-26</td>\n",
       "      <td>14:23:45</td>\n",
       "      <td>หญิง</td>\n",
       "      <td>51.0</td>\n",
       "      <td>ปวดขาพับข้างซ้ายร้าวลงขาซ้ายเป็นมา 1 อาทิตย์</td>\n",
       "      <td>153.0</td>\n",
       "      <td>92.0</td>\n",
       "      <td>67.0</td>\n",
       "      <td>86.0</td>\n",
       "      <td>...</td>\n",
       "      <td>36.5</td>\n",
       "      <td>จุดซักประวัติห้องตรวจโรคกระดูก</td>\n",
       "      <td>M6596</td>\n",
       "      <td>NaN</td>\n",
       "      <td>NaN</td>\n",
       "      <td>NaN</td>\n",
       "      <td>NaN</td>\n",
       "      <td>ร้าว ปวดขา</td>\n",
       "      <td>ปวด/ปวดร้าว/ปวดขา</td>\n",
       "      <td>[ปวด, ปวดร้าว, ปวดขา]</td>\n",
       "    </tr>\n",
       "  </tbody>\n",
       "</table>\n",
       "<p>5 rows × 21 columns</p>\n",
       "</div>"
      ],
      "text/plain": [
       "             vn    vstdate   vsttime   sex  age_y  \\\n",
       "0  610611111904 2018-06-11  11:19:04  หญิง   23.0   \n",
       "1  610508143131 2018-05-08  14:31:31  หญิง   22.0   \n",
       "2  601101191449 2017-11-01  19:14:49  หญิง   51.0   \n",
       "3  610926001048 2018-09-26  00:10:48  หญิง   52.0   \n",
       "6  610326142345 2018-03-26  14:23:45  หญิง   51.0   \n",
       "\n",
       "                                                  cc    bps    bpd  pulse  \\\n",
       "0  P - LAST  -  LMP  23/03/02561*   4 วัน ตั้งครร...   86.0   59.0   85.0   \n",
       "1  G1P  0 LAST-  ปี  LMP -   คุมกำเนิด  -   วันนี...  123.0   72.0  130.0   \n",
       "2  รับจาก  ER  เวลา  19.32 น  มีไข้  ไอมีเสมหะ  ป...  175.0   99.0  114.0   \n",
       "3  ผู้ป่วยแจ้งว่า มีอาการปวดท้อง แน่นใต้ลิ้นปี่ เ...  170.0  110.0   64.0   \n",
       "6       ปวดขาพับข้างซ้ายร้าวลงขาซ้ายเป็นมา 1 อาทิตย์  153.0   92.0   67.0   \n",
       "\n",
       "     bw  ...  temperature                      department PDX (1)  \\\n",
       "0  49.4  ...         36.5  จุดซักประวัติห้องตรวจโรคนรีเวช    O020   \n",
       "1  61.1  ...         36.5  จุดซักประวัติห้องตรวจโรคนรีเวช    A630   \n",
       "2   0.0  ...         38.5                  คลินิกนอกเวลา1    J110   \n",
       "3  86.0  ...         36.6         ห้องEmergency Room (ER)     K30   \n",
       "6  86.0  ...         36.5  จุดซักประวัติห้องตรวจโรคกระดูก   M6596   \n",
       "\n",
       "  Comorbidity (2) Complication (3) Other (4) External Cause (5)  \\\n",
       "0             NaN              NaN       NaN                NaN   \n",
       "1             NaN              NaN      Z133                NaN   \n",
       "2             NaN              NaN       NaN                NaN   \n",
       "3             NaN              NaN       NaN                NaN   \n",
       "6             NaN              NaN       NaN                NaN   \n",
       "\n",
       "             clean_symtom(noun)          clean_symptom2(synonym)  \\\n",
       "0        ใช้สารเสพติด ตั้งครรภ์               ตั้งครรภ์/ยาเสพติด   \n",
       "1  ฝากครรภ์ คุมกำเนิด ตั้งครรภ์        ฝากครรภ์/ตั้งครรภ์/กำเนิด   \n",
       "2      ปวดศีรษะ ชา ไข้ ไอ เสมหะ     ไข้/ไอ/ปวดศีรษะ/ชา/ปวด/เสมหะ   \n",
       "3        แน่นใต้ลิ้นปี่ ปวดท้อง  ปวด/แน่น/ปวดท้อง/แน่นใต้ลิ้นปี่   \n",
       "6                    ร้าว ปวดขา                ปวด/ปวดร้าว/ปวดขา   \n",
       "\n",
       "                               symptoms  \n",
       "0                 [ตั้งครรภ์, ยาเสพติด]  \n",
       "1         [ฝากครรภ์, ตั้งครรภ์, กำเนิด]  \n",
       "2   [ไข้, ไอ, ปวดศีรษะ, ชา, ปวด, เสมหะ]  \n",
       "3  [ปวด, แน่น, ปวดท้อง, แน่นใต้ลิ้นปี่]  \n",
       "6                 [ปวด, ปวดร้าว, ปวดขา]  \n",
       "\n",
       "[5 rows x 21 columns]"
      ]
     },
     "execution_count": 5,
     "metadata": {},
     "output_type": "execute_result"
    }
   ],
   "source": [
    "df_cc['symptoms'] = df_cc['clean_symptom2(synonym)'].str.split(\"/\", n= -1)\n",
    "df_cc.head()"
   ]
  },
  {
   "cell_type": "code",
   "execution_count": 28,
   "metadata": {},
   "outputs": [],
   "source": [
    "df_cc.rename(columns={'PDX (1)': 'PDX'}, inplace=True)"
   ]
  },
  {
   "cell_type": "code",
   "execution_count": 29,
   "metadata": {},
   "outputs": [
    {
     "data": {
      "text/html": [
       "<div>\n",
       "<style scoped>\n",
       "    .dataframe tbody tr th:only-of-type {\n",
       "        vertical-align: middle;\n",
       "    }\n",
       "\n",
       "    .dataframe tbody tr th {\n",
       "        vertical-align: top;\n",
       "    }\n",
       "\n",
       "    .dataframe thead th {\n",
       "        text-align: right;\n",
       "    }\n",
       "</style>\n",
       "<table border=\"1\" class=\"dataframe\">\n",
       "  <thead>\n",
       "    <tr style=\"text-align: right;\">\n",
       "      <th></th>\n",
       "      <th>vn</th>\n",
       "      <th>sex</th>\n",
       "      <th>age_y</th>\n",
       "      <th>bps</th>\n",
       "      <th>bpd</th>\n",
       "      <th>pulse</th>\n",
       "      <th>bw</th>\n",
       "      <th>height</th>\n",
       "      <th>temperature</th>\n",
       "      <th>PDX</th>\n",
       "      <th>symptoms</th>\n",
       "    </tr>\n",
       "  </thead>\n",
       "  <tbody>\n",
       "    <tr>\n",
       "      <th>0</th>\n",
       "      <td>610611111904</td>\n",
       "      <td>หญิง</td>\n",
       "      <td>23.0</td>\n",
       "      <td>86.0</td>\n",
       "      <td>59.0</td>\n",
       "      <td>85.0</td>\n",
       "      <td>49.4</td>\n",
       "      <td>160.0</td>\n",
       "      <td>36.5</td>\n",
       "      <td>O020</td>\n",
       "      <td>[ตั้งครรภ์, ยาเสพติด]</td>\n",
       "    </tr>\n",
       "    <tr>\n",
       "      <th>1</th>\n",
       "      <td>610508143131</td>\n",
       "      <td>หญิง</td>\n",
       "      <td>22.0</td>\n",
       "      <td>123.0</td>\n",
       "      <td>72.0</td>\n",
       "      <td>130.0</td>\n",
       "      <td>61.1</td>\n",
       "      <td>165.0</td>\n",
       "      <td>36.5</td>\n",
       "      <td>A630</td>\n",
       "      <td>[ฝากครรภ์, ตั้งครรภ์, กำเนิด]</td>\n",
       "    </tr>\n",
       "    <tr>\n",
       "      <th>2</th>\n",
       "      <td>601101191449</td>\n",
       "      <td>หญิง</td>\n",
       "      <td>51.0</td>\n",
       "      <td>175.0</td>\n",
       "      <td>99.0</td>\n",
       "      <td>114.0</td>\n",
       "      <td>0.0</td>\n",
       "      <td>156.0</td>\n",
       "      <td>38.5</td>\n",
       "      <td>J110</td>\n",
       "      <td>[ไข้, ไอ, ปวดศีรษะ, ชา, ปวด, เสมหะ]</td>\n",
       "    </tr>\n",
       "    <tr>\n",
       "      <th>3</th>\n",
       "      <td>610926001048</td>\n",
       "      <td>หญิง</td>\n",
       "      <td>52.0</td>\n",
       "      <td>170.0</td>\n",
       "      <td>110.0</td>\n",
       "      <td>64.0</td>\n",
       "      <td>86.0</td>\n",
       "      <td>154.0</td>\n",
       "      <td>36.6</td>\n",
       "      <td>K30</td>\n",
       "      <td>[ปวด, แน่น, ปวดท้อง, แน่นใต้ลิ้นปี่]</td>\n",
       "    </tr>\n",
       "    <tr>\n",
       "      <th>6</th>\n",
       "      <td>610326142345</td>\n",
       "      <td>หญิง</td>\n",
       "      <td>51.0</td>\n",
       "      <td>153.0</td>\n",
       "      <td>92.0</td>\n",
       "      <td>67.0</td>\n",
       "      <td>86.0</td>\n",
       "      <td>154.0</td>\n",
       "      <td>36.5</td>\n",
       "      <td>M6596</td>\n",
       "      <td>[ปวด, ปวดร้าว, ปวดขา]</td>\n",
       "    </tr>\n",
       "  </tbody>\n",
       "</table>\n",
       "</div>"
      ],
      "text/plain": [
       "             vn   sex  age_y    bps    bpd  pulse    bw  height  temperature  \\\n",
       "0  610611111904  หญิง   23.0   86.0   59.0   85.0  49.4   160.0         36.5   \n",
       "1  610508143131  หญิง   22.0  123.0   72.0  130.0  61.1   165.0         36.5   \n",
       "2  601101191449  หญิง   51.0  175.0   99.0  114.0   0.0   156.0         38.5   \n",
       "3  610926001048  หญิง   52.0  170.0  110.0   64.0  86.0   154.0         36.6   \n",
       "6  610326142345  หญิง   51.0  153.0   92.0   67.0  86.0   154.0         36.5   \n",
       "\n",
       "     PDX                              symptoms  \n",
       "0   O020                 [ตั้งครรภ์, ยาเสพติด]  \n",
       "1   A630         [ฝากครรภ์, ตั้งครรภ์, กำเนิด]  \n",
       "2   J110   [ไข้, ไอ, ปวดศีรษะ, ชา, ปวด, เสมหะ]  \n",
       "3    K30  [ปวด, แน่น, ปวดท้อง, แน่นใต้ลิ้นปี่]  \n",
       "6  M6596                 [ปวด, ปวดร้าว, ปวดขา]  "
      ]
     },
     "execution_count": 29,
     "metadata": {},
     "output_type": "execute_result"
    }
   ],
   "source": [
    "df_cc_new = df_cc[['vn', 'sex', 'age_y', 'bps', 'bpd', 'pulse', 'bw', 'height', 'temperature', 'PDX', 'symptoms']]\n",
    "df_cc_new.head()"
   ]
  },
  {
   "cell_type": "code",
   "execution_count": 30,
   "metadata": {},
   "outputs": [
    {
     "data": {
      "text/html": [
       "<div>\n",
       "<style scoped>\n",
       "    .dataframe tbody tr th:only-of-type {\n",
       "        vertical-align: middle;\n",
       "    }\n",
       "\n",
       "    .dataframe tbody tr th {\n",
       "        vertical-align: top;\n",
       "    }\n",
       "\n",
       "    .dataframe thead th {\n",
       "        text-align: right;\n",
       "    }\n",
       "</style>\n",
       "<table border=\"1\" class=\"dataframe\">\n",
       "  <thead>\n",
       "    <tr style=\"text-align: right;\">\n",
       "      <th></th>\n",
       "      <th>vn</th>\n",
       "      <th>xray_items</th>\n",
       "    </tr>\n",
       "  </thead>\n",
       "  <tbody>\n",
       "    <tr>\n",
       "      <th>0</th>\n",
       "      <td>601001011504</td>\n",
       "      <td>[Chest Ap]</td>\n",
       "    </tr>\n",
       "    <tr>\n",
       "      <th>1</th>\n",
       "      <td>601001011504</td>\n",
       "      <td>[Chest Ap]</td>\n",
       "    </tr>\n",
       "    <tr>\n",
       "      <th>2</th>\n",
       "      <td>601001011504</td>\n",
       "      <td>[Chest Ap]</td>\n",
       "    </tr>\n",
       "    <tr>\n",
       "      <th>3</th>\n",
       "      <td>601001012739</td>\n",
       "      <td>[Skull AP, lat, Ankle Lt AP, lat, Ankle Mortis...</td>\n",
       "    </tr>\n",
       "    <tr>\n",
       "      <th>4</th>\n",
       "      <td>601001012739</td>\n",
       "      <td>[Skull AP, lat, Ankle Lt AP, lat, Ankle Mortis...</td>\n",
       "    </tr>\n",
       "  </tbody>\n",
       "</table>\n",
       "</div>"
      ],
      "text/plain": [
       "             vn                                         xray_items\n",
       "0  601001011504                                         [Chest Ap]\n",
       "1  601001011504                                         [Chest Ap]\n",
       "2  601001011504                                         [Chest Ap]\n",
       "3  601001012739  [Skull AP, lat, Ankle Lt AP, lat, Ankle Mortis...\n",
       "4  601001012739  [Skull AP, lat, Ankle Lt AP, lat, Ankle Mortis..."
      ]
     },
     "execution_count": 30,
     "metadata": {},
     "output_type": "execute_result"
    }
   ],
   "source": [
    "df_xray_new = df_xray[['vn', 'xray_items']]\n",
    "df_xray_new.head()"
   ]
  },
  {
   "cell_type": "code",
   "execution_count": 31,
   "metadata": {},
   "outputs": [
    {
     "data": {
      "text/plain": [
       "array([[0, 0, 0, ..., 0, 0, 0],\n",
       "       [0, 0, 0, ..., 0, 0, 0],\n",
       "       [0, 0, 0, ..., 0, 1, 0],\n",
       "       ...,\n",
       "       [0, 0, 0, ..., 0, 0, 0],\n",
       "       [0, 0, 0, ..., 0, 0, 0],\n",
       "       [0, 0, 0, ..., 0, 0, 0]])"
      ]
     },
     "execution_count": 31,
     "metadata": {},
     "output_type": "execute_result"
    }
   ],
   "source": [
    "# Find distinct symptoms\n",
    "te = TransactionEncoder()\n",
    "dataset = df_cc_new['symptoms']\n",
    "te_ary = te.fit(dataset).transform(dataset)\n",
    "te_ary.astype(\"int\")"
   ]
  },
  {
   "cell_type": "code",
   "execution_count": 32,
   "metadata": {},
   "outputs": [
    {
     "data": {
      "text/plain": [
       "328"
      ]
     },
     "execution_count": 32,
     "metadata": {},
     "output_type": "execute_result"
    }
   ],
   "source": [
    "len(te.columns_)"
   ]
  },
  {
   "cell_type": "code",
   "execution_count": 33,
   "metadata": {},
   "outputs": [
    {
     "data": {
      "text/plain": [
       "str"
      ]
     },
     "execution_count": 33,
     "metadata": {},
     "output_type": "execute_result"
    }
   ],
   "source": [
    "type(df_cc_new['PDX'][1])"
   ]
  },
  {
   "cell_type": "code",
   "execution_count": 34,
   "metadata": {},
   "outputs": [
    {
     "data": {
      "text/plain": [
       "5220"
      ]
     },
     "execution_count": 34,
     "metadata": {},
     "output_type": "execute_result"
    }
   ],
   "source": [
    "len(df_cc_new.PDX.unique())"
   ]
  },
  {
   "cell_type": "code",
   "execution_count": 36,
   "metadata": {},
   "outputs": [
    {
     "data": {
      "text/html": [
       "<div>\n",
       "<style scoped>\n",
       "    .dataframe tbody tr th:only-of-type {\n",
       "        vertical-align: middle;\n",
       "    }\n",
       "\n",
       "    .dataframe tbody tr th {\n",
       "        vertical-align: top;\n",
       "    }\n",
       "\n",
       "    .dataframe thead th {\n",
       "        text-align: right;\n",
       "    }\n",
       "</style>\n",
       "<table border=\"1\" class=\"dataframe\">\n",
       "  <thead>\n",
       "    <tr style=\"text-align: right;\">\n",
       "      <th></th>\n",
       "      <th>vn</th>\n",
       "      <th>sex</th>\n",
       "      <th>age_y</th>\n",
       "      <th>bps</th>\n",
       "      <th>bpd</th>\n",
       "      <th>pulse</th>\n",
       "      <th>bw</th>\n",
       "      <th>height</th>\n",
       "      <th>temperature</th>\n",
       "      <th>symptoms</th>\n",
       "      <th>xray_items</th>\n",
       "    </tr>\n",
       "  </thead>\n",
       "  <tbody>\n",
       "    <tr>\n",
       "      <th>0</th>\n",
       "      <td>601101191449</td>\n",
       "      <td>หญิง</td>\n",
       "      <td>51.0</td>\n",
       "      <td>175.0</td>\n",
       "      <td>99.0</td>\n",
       "      <td>114.0</td>\n",
       "      <td>0.0</td>\n",
       "      <td>156.0</td>\n",
       "      <td>38.5</td>\n",
       "      <td>[ไข้, ไอ, ปวดศีรษะ, ชา, ปวด, เสมหะ]</td>\n",
       "      <td>[Chest PA Upright]</td>\n",
       "    </tr>\n",
       "    <tr>\n",
       "      <th>1</th>\n",
       "      <td>610926001048</td>\n",
       "      <td>หญิง</td>\n",
       "      <td>52.0</td>\n",
       "      <td>170.0</td>\n",
       "      <td>110.0</td>\n",
       "      <td>64.0</td>\n",
       "      <td>86.0</td>\n",
       "      <td>154.0</td>\n",
       "      <td>36.6</td>\n",
       "      <td>[ปวด, แน่น, ปวดท้อง, แน่นใต้ลิ้นปี่]</td>\n",
       "      <td>[Acute Abdomen]</td>\n",
       "    </tr>\n",
       "    <tr>\n",
       "      <th>2</th>\n",
       "      <td>601013203924</td>\n",
       "      <td>หญิง</td>\n",
       "      <td>51.0</td>\n",
       "      <td>150.0</td>\n",
       "      <td>94.0</td>\n",
       "      <td>74.0</td>\n",
       "      <td>86.0</td>\n",
       "      <td>156.0</td>\n",
       "      <td>36.4</td>\n",
       "      <td>[เหนื่อย]</td>\n",
       "      <td>[Chest PA Upright]</td>\n",
       "    </tr>\n",
       "    <tr>\n",
       "      <th>3</th>\n",
       "      <td>601212125256</td>\n",
       "      <td>ชาย</td>\n",
       "      <td>53.0</td>\n",
       "      <td>130.0</td>\n",
       "      <td>70.0</td>\n",
       "      <td>76.0</td>\n",
       "      <td>73.0</td>\n",
       "      <td>169.0</td>\n",
       "      <td>0.0</td>\n",
       "      <td>[ปวด, ปวดข้อ, เท้าพลิก]</td>\n",
       "      <td>[Ankle Rt AP, lat]</td>\n",
       "    </tr>\n",
       "    <tr>\n",
       "      <th>4</th>\n",
       "      <td>601231193658</td>\n",
       "      <td>หญิง</td>\n",
       "      <td>58.0</td>\n",
       "      <td>120.0</td>\n",
       "      <td>90.0</td>\n",
       "      <td>76.0</td>\n",
       "      <td>0.0</td>\n",
       "      <td>160.0</td>\n",
       "      <td>36.5</td>\n",
       "      <td>[ล้ม]</td>\n",
       "      <td>[Wrist Lt  PA, lat]</td>\n",
       "    </tr>\n",
       "  </tbody>\n",
       "</table>\n",
       "</div>"
      ],
      "text/plain": [
       "             vn   sex  age_y    bps    bpd  pulse    bw  height  temperature  \\\n",
       "0  601101191449  หญิง   51.0  175.0   99.0  114.0   0.0   156.0         38.5   \n",
       "1  610926001048  หญิง   52.0  170.0  110.0   64.0  86.0   154.0         36.6   \n",
       "2  601013203924  หญิง   51.0  150.0   94.0   74.0  86.0   156.0         36.4   \n",
       "3  601212125256   ชาย   53.0  130.0   70.0   76.0  73.0   169.0          0.0   \n",
       "4  601231193658  หญิง   58.0  120.0   90.0   76.0   0.0   160.0         36.5   \n",
       "\n",
       "                               symptoms           xray_items  \n",
       "0   [ไข้, ไอ, ปวดศีรษะ, ชา, ปวด, เสมหะ]   [Chest PA Upright]  \n",
       "1  [ปวด, แน่น, ปวดท้อง, แน่นใต้ลิ้นปี่]      [Acute Abdomen]  \n",
       "2                             [เหนื่อย]   [Chest PA Upright]  \n",
       "3               [ปวด, ปวดข้อ, เท้าพลิก]   [Ankle Rt AP, lat]  \n",
       "4                                 [ล้ม]  [Wrist Lt  PA, lat]  "
      ]
     },
     "execution_count": 36,
     "metadata": {},
     "output_type": "execute_result"
    }
   ],
   "source": [
    "df = pd.merge(df_cc_new, df_xray_new, how='inner', on='vn')\n",
    "df.head()"
   ]
  },
  {
   "cell_type": "code",
   "execution_count": 37,
   "metadata": {},
   "outputs": [
    {
     "data": {
      "text/plain": [
       "(70774, 11)"
      ]
     },
     "execution_count": 37,
     "metadata": {},
     "output_type": "execute_result"
    }
   ],
   "source": [
    "df.shape"
   ]
  },
  {
   "cell_type": "code",
   "execution_count": 39,
   "metadata": {},
   "outputs": [
    {
     "data": {
      "text/plain": [
       "pandas.core.frame.DataFrame"
      ]
     },
     "execution_count": 39,
     "metadata": {},
     "output_type": "execute_result"
    }
   ],
   "source": [
    "type(df)"
   ]
  },
  {
   "cell_type": "code",
   "execution_count": 24,
   "metadata": {},
   "outputs": [
    {
     "ename": "TypeError",
     "evalue": "'<' not supported between instances of 'str' and 'int'",
     "output_type": "error",
     "traceback": [
      "\u001b[0;31m---------------------------------------------------------------------------\u001b[0m",
      "\u001b[0;31mTypeError\u001b[0m                                 Traceback (most recent call last)",
      "\u001b[0;32m<ipython-input-24-12e46cc3cbc6>\u001b[0m in \u001b[0;36m<module>\u001b[0;34m\u001b[0m\n\u001b[1;32m      1\u001b[0m \u001b[0mdf\u001b[0m\u001b[0;34m[\u001b[0m\u001b[0;34m'bps'\u001b[0m\u001b[0;34m]\u001b[0m\u001b[0;34m.\u001b[0m\u001b[0mto_numpy\u001b[0m\u001b[0;34m(\u001b[0m\u001b[0;34m)\u001b[0m\u001b[0;34m\u001b[0m\u001b[0;34m\u001b[0m\u001b[0m\n\u001b[1;32m      2\u001b[0m \u001b[0mdf\u001b[0m\u001b[0;34m[\u001b[0m\u001b[0;34m'bpd'\u001b[0m\u001b[0;34m]\u001b[0m\u001b[0;34m.\u001b[0m\u001b[0mto_numpy\u001b[0m\u001b[0;34m(\u001b[0m\u001b[0;34m)\u001b[0m\u001b[0;34m\u001b[0m\u001b[0;34m\u001b[0m\u001b[0m\n\u001b[0;32m----> 3\u001b[0;31m \u001b[0mdf_filtered_bp\u001b[0m \u001b[0;34m=\u001b[0m \u001b[0mdf\u001b[0m\u001b[0;34m.\u001b[0m\u001b[0mdrop\u001b[0m\u001b[0;34m(\u001b[0m\u001b[0mdf\u001b[0m\u001b[0;34m[\u001b[0m\u001b[0;34m(\u001b[0m\u001b[0mdf\u001b[0m\u001b[0;34m[\u001b[0m\u001b[0;34m'bps'\u001b[0m\u001b[0;34m]\u001b[0m \u001b[0;34m<\u001b[0m \u001b[0;36m80\u001b[0m\u001b[0;34m)\u001b[0m \u001b[0;34m|\u001b[0m \u001b[0;34m(\u001b[0m\u001b[0mdf\u001b[0m\u001b[0;34m[\u001b[0m\u001b[0;34m'bpd'\u001b[0m \u001b[0;34m<\u001b[0m \u001b[0;36m60\u001b[0m\u001b[0;34m]\u001b[0m\u001b[0;34m)\u001b[0m\u001b[0;34m]\u001b[0m\u001b[0;34m.\u001b[0m\u001b[0mindex\u001b[0m\u001b[0;34m)\u001b[0m\u001b[0;34m\u001b[0m\u001b[0;34m\u001b[0m\u001b[0m\n\u001b[0m",
      "\u001b[0;31mTypeError\u001b[0m: '<' not supported between instances of 'str' and 'int'"
     ]
    }
   ],
   "source": [
    "# df['bps'].to_numpy()\n",
    "# df['bpd'].to_numpy()\n",
    "# df_filtered_bp = df.drop(df[(df['bps'] < 80) | (df['bpd' < 60])].index)"
   ]
  },
  {
   "cell_type": "code",
   "execution_count": 41,
   "metadata": {},
   "outputs": [
    {
     "data": {
      "text/html": [
       "<div>\n",
       "<style scoped>\n",
       "    .dataframe tbody tr th:only-of-type {\n",
       "        vertical-align: middle;\n",
       "    }\n",
       "\n",
       "    .dataframe tbody tr th {\n",
       "        vertical-align: top;\n",
       "    }\n",
       "\n",
       "    .dataframe thead th {\n",
       "        text-align: right;\n",
       "    }\n",
       "</style>\n",
       "<table border=\"1\" class=\"dataframe\">\n",
       "  <thead>\n",
       "    <tr style=\"text-align: right;\">\n",
       "      <th></th>\n",
       "      <th>vn</th>\n",
       "      <th>sex</th>\n",
       "      <th>age_y</th>\n",
       "      <th>bps</th>\n",
       "      <th>bpd</th>\n",
       "      <th>pulse</th>\n",
       "      <th>bw</th>\n",
       "      <th>height</th>\n",
       "      <th>temperature</th>\n",
       "      <th>symptoms</th>\n",
       "      <th>xray_items</th>\n",
       "    </tr>\n",
       "  </thead>\n",
       "  <tbody>\n",
       "    <tr>\n",
       "      <th>0</th>\n",
       "      <td>601101191449</td>\n",
       "      <td>หญิง</td>\n",
       "      <td>51.0</td>\n",
       "      <td>175.0</td>\n",
       "      <td>99.0</td>\n",
       "      <td>114.0</td>\n",
       "      <td>0.0</td>\n",
       "      <td>156.0</td>\n",
       "      <td>38.5</td>\n",
       "      <td>[ไข้, ไอ, ปวดศีรษะ, ชา, ปวด, เสมหะ]</td>\n",
       "      <td>[Chest PA Upright]</td>\n",
       "    </tr>\n",
       "    <tr>\n",
       "      <th>1</th>\n",
       "      <td>610926001048</td>\n",
       "      <td>หญิง</td>\n",
       "      <td>52.0</td>\n",
       "      <td>170.0</td>\n",
       "      <td>110.0</td>\n",
       "      <td>64.0</td>\n",
       "      <td>86.0</td>\n",
       "      <td>154.0</td>\n",
       "      <td>36.6</td>\n",
       "      <td>[ปวด, แน่น, ปวดท้อง, แน่นใต้ลิ้นปี่]</td>\n",
       "      <td>[Acute Abdomen]</td>\n",
       "    </tr>\n",
       "    <tr>\n",
       "      <th>2</th>\n",
       "      <td>601013203924</td>\n",
       "      <td>หญิง</td>\n",
       "      <td>51.0</td>\n",
       "      <td>150.0</td>\n",
       "      <td>94.0</td>\n",
       "      <td>74.0</td>\n",
       "      <td>86.0</td>\n",
       "      <td>156.0</td>\n",
       "      <td>36.4</td>\n",
       "      <td>[เหนื่อย]</td>\n",
       "      <td>[Chest PA Upright]</td>\n",
       "    </tr>\n",
       "    <tr>\n",
       "      <th>3</th>\n",
       "      <td>601212125256</td>\n",
       "      <td>ชาย</td>\n",
       "      <td>53.0</td>\n",
       "      <td>130.0</td>\n",
       "      <td>70.0</td>\n",
       "      <td>76.0</td>\n",
       "      <td>73.0</td>\n",
       "      <td>169.0</td>\n",
       "      <td>0.0</td>\n",
       "      <td>[ปวด, ปวดข้อ, เท้าพลิก]</td>\n",
       "      <td>[Ankle Rt AP, lat]</td>\n",
       "    </tr>\n",
       "    <tr>\n",
       "      <th>4</th>\n",
       "      <td>601231193658</td>\n",
       "      <td>หญิง</td>\n",
       "      <td>58.0</td>\n",
       "      <td>120.0</td>\n",
       "      <td>90.0</td>\n",
       "      <td>76.0</td>\n",
       "      <td>0.0</td>\n",
       "      <td>160.0</td>\n",
       "      <td>36.5</td>\n",
       "      <td>[ล้ม]</td>\n",
       "      <td>[Wrist Lt  PA, lat]</td>\n",
       "    </tr>\n",
       "  </tbody>\n",
       "</table>\n",
       "</div>"
      ],
      "text/plain": [
       "             vn   sex  age_y    bps    bpd  pulse    bw  height  temperature  \\\n",
       "0  601101191449  หญิง   51.0  175.0   99.0  114.0   0.0   156.0         38.5   \n",
       "1  610926001048  หญิง   52.0  170.0  110.0   64.0  86.0   154.0         36.6   \n",
       "2  601013203924  หญิง   51.0  150.0   94.0   74.0  86.0   156.0         36.4   \n",
       "3  601212125256   ชาย   53.0  130.0   70.0   76.0  73.0   169.0          0.0   \n",
       "4  601231193658  หญิง   58.0  120.0   90.0   76.0   0.0   160.0         36.5   \n",
       "\n",
       "                               symptoms           xray_items  \n",
       "0   [ไข้, ไอ, ปวดศีรษะ, ชา, ปวด, เสมหะ]   [Chest PA Upright]  \n",
       "1  [ปวด, แน่น, ปวดท้อง, แน่นใต้ลิ้นปี่]      [Acute Abdomen]  \n",
       "2                             [เหนื่อย]   [Chest PA Upright]  \n",
       "3               [ปวด, ปวดข้อ, เท้าพลิก]   [Ankle Rt AP, lat]  \n",
       "4                                 [ล้ม]  [Wrist Lt  PA, lat]  "
      ]
     },
     "execution_count": 41,
     "metadata": {},
     "output_type": "execute_result"
    }
   ],
   "source": [
    "# Eliminate low bps: bps<80 & bpd<60\n",
    "df_filtered_bps = df[df['bps'] > 80]\n",
    "df_filtered_bpd = df_filtered_bps[df_filtered_bps['bpd'] > 60]\n",
    "df_filtered_bpd.head()\n",
    "# len(df_filtered_bpd)"
   ]
  },
  {
   "cell_type": "code",
   "execution_count": null,
   "metadata": {},
   "outputs": [],
   "source": [
    "# Eliminate poor pulse rate: according to https://agelessinvesting.com/what-is-a-good-resting-heart-rate/\n",
    "df_filtered_bp_pulse = "
   ]
  },
  {
   "cell_type": "markdown",
   "metadata": {},
   "source": [
    "Finding outliers"
   ]
  },
  {
   "cell_type": "code",
   "execution_count": 42,
   "metadata": {},
   "outputs": [
    {
     "data": {
      "image/png": "[encoded data removed]",
      "text/plain": [
       "<Figure size 1152x576 with 1 Axes>"
      ]
     },
     "metadata": {
      "needs_background": "light"
     },
     "output_type": "display_data"
    }
   ],
   "source": [
    "# categorize bps and bpd\n",
    "fig, ax = plt.subplots(figsize=(16,8))\n",
    "ax.scatter(df_filtered_bpd['bps'], df_filtered_bpd['bpd'])\n",
    "ax.set_xlabel('Upper Blood Pressure')\n",
    "ax.set_ylabel('Lower Blood Pressure')\n",
    "plt.show()"
   ]
  },
  {
   "cell_type": "code",
   "execution_count": null,
   "metadata": {},
   "outputs": [],
   "source": [
    "# Create bps \n",
    "bps = df['bps'].to_numpy()\n",
    "bps = np.reshape(bps, (1, len(bps)))\n",
    "bps"
   ]
  },
  {
   "cell_type": "code",
   "execution_count": 13,
   "metadata": {},
   "outputs": [
    {
     "data": {
      "text/plain": [
       "<matplotlib.axes._subplots.AxesSubplot at 0x14264a210>"
      ]
     },
     "execution_count": 13,
     "metadata": {},
     "output_type": "execute_result"
    },
    {
     "data": {
      "image/png": "[encoded data removed]",
      "text/plain": [
       "<Figure size 432x288 with 1 Axes>"
      ]
     },
     "metadata": {
      "needs_background": "light"
     },
     "output_type": "display_data"
    }
   ],
   "source": [
    "sns.boxplot(x=df['pulse'])"
   ]
  },
  {
   "cell_type": "code",
   "execution_count": 49,
   "metadata": {},
   "outputs": [
    {
     "data": {
      "text/plain": [
       "array([[1.2494693 , 1.1359642 , 0.68194379, ..., 0.68011742, 0.68011742,\n",
       "        0.72551946]])"
      ]
     },
     "execution_count": 49,
     "metadata": {},
     "output_type": "execute_result"
    }
   ],
   "source": [
    "# z-score outlier determination\n",
    "z = np.abs(stats.zscore(bps, axis=None, ddof=0, nan_policy='omit'))\n",
    "z"
   ]
  },
  {
   "cell_type": "code",
   "execution_count": 47,
   "metadata": {},
   "outputs": [
    {
     "data": {
      "text/plain": [
       "(1, 70774)"
      ]
     },
     "execution_count": 47,
     "metadata": {},
     "output_type": "execute_result"
    }
   ],
   "source": [
    "# np.shape(bps)"
   ]
  },
  {
   "cell_type": "markdown",
   "metadata": {},
   "source": [
    "***Final Product: Confusion matrix predict PDX (classify from vital sign)\n",
    "(method: Linear SVM)***"
   ]
  },
  {
   "cell_type": "code",
   "execution_count": 38,
   "metadata": {},
   "outputs": [
    {
     "data": {
      "text/plain": [
       "83.16666666666667"
      ]
     },
     "execution_count": 38,
     "metadata": {},
     "output_type": "execute_result"
    }
   ],
   "source": [
    "# Pulse rate\n",
    "pr = [85, 83, 85, 84, 84, 84, 82, 82, 83, 84, 82, 80]\n",
    "np.mean(pr)"
   ]
  },
  {
   "cell_type": "code",
   "execution_count": null,
   "metadata": {},
   "outputs": [],
   "source": []
  }
 ],
 "metadata": {
  "kernelspec": {
   "display_name": "Python 3",
   "language": "python",
   "name": "python3"
  },
  "language_info": {
   "codemirror_mode": {
    "name": "ipython",
    "version": 3
   },
   "file_extension": ".py",
   "mimetype": "text/x-python",
   "name": "python",
   "nbconvert_exporter": "python",
   "pygments_lexer": "ipython3",
   "version": "3.7.4"
  }
 },
 "nbformat": 4,
 "nbformat_minor": 4
}
